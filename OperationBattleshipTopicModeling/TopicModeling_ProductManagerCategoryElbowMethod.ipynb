{
 "cells": [
  {
   "cell_type": "markdown",
   "metadata": {},
   "source": [
    "# Topic Modeling of Job Descriptions\n",
    "\n",
    "### Purpose:\n",
    "Our users have looked at the list of recommended jobs and often said things like, \"I want to find jobs that are similar to this one.\". They want the ability to explore other jobs and find the right fit for their career. We are exploring multiple routes to solve this user need. We hypothesize that by using Topic Modeling (LDA) on the job descriptions, we will be able to categorize jobs into buckets that represent similar opportunities as each other. \"Jobs like this one\" will probably have similar words used to describe the role and the required activities. \n",
    "\n",
    "**Experiment to Consider:**\n",
    "I wonder if the company name for the job might bias some of the topics that are identified. There are some companies that have many jobs posted. We might want to consider removing the company name from the corpus before we apply LDA. \n",
    "\n",
    "### Other solutions to consider:\n",
    "- 2d Projection of the embeddings: This has merit because it allows the user to see all jobs in one big view and allows them to explore all the opportunites. However, it is non-intuitive for non-technical users. We've recieved mixed feedback on the use of an embeddings map to service this need.  \n",
    "- Semantic Search: This approach is interesting because it is likely the lowest LOE, but the major drawback is that we might just return jobs from the same company and might not serve the true need of the user. \n",
    "- Clustering Algorithms: Various clustering algorithms would allow us to see the grouping of different jobs based on reduced features from the original high dimension space. We have experimented with this by taking the 768 dimension embedding and applying PCA to reduce down to 250 dimensions. The key challenge with this approach is that PCA data is non-linear and most clustering algortithms assume linear relationships in the data. Also, we wouldn't know WHY the clusters are created. \n",
    "\n",
    "----\n",
    "\n"
   ]
  },
  {
   "cell_type": "markdown",
   "metadata": {},
   "source": [
    "## About LDA:\n",
    "\n",
    "At a high level: \n",
    "The user has to manually choose the number of topics that should be discovered in the training corpus. This should be driven by a combination of domain knowledge and also experimentation. \n",
    "\n",
    "LDA will parse all the documents at then determine which words are typically shown with high frequency for a given topic. \n",
    "\n",
    "We can then pass in a document and given the word distrubution, the model will tell us which topic this likely is associated with. \n",
    "\n",
    "- Assumptions of LDA for Topic Modeling:\n",
    "    - Documents with similar topics use similar groups of words\n",
    "    - Latent topics can then be found by search for groups of words that frequently occur together in the documents across the corpus. \n",
    "\n",
    "Mathmatically Speaking...\n",
    "- Assumptions of LDA for Topic Modeling\n",
    "    - Documents are probability distributions over latent topics\n",
    "    - Topics themselves are probability distributions over words. \n",
    "\n",
    "\n",
    "We are NOT saying that Document 1 is an example Topic 1. Instead we are saying that there is a probability that Document 1 is an example of Topic 1 because it contains many words that are found in Topic 1. There is a greater probability that it is an example of Topic 1, but there is also a chance it could be another one of the given topics too, just a lower probability of this. \n",
    "\n",
    "LDA represents documents as mixtures of topics that spit out words with certain probabilities. \n",
    "\n",
    "-----\n",
    "\n",
    "Now imagine that we have a set of documents\n",
    "\n",
    "We've chosen some fixed number of K Topics to discover and want to use LDA to learn the topic representation of each document and the words associated with each document. \n",
    "\n",
    "Go through each document, and randomly assign each word in the document to one of the K Topics\n",
    "\n",
    "This random assignment already gives you both topic representations of all the documents and word distrubtions of all the topics. (But please be aware... These initial random topics won't make any sense)\n",
    "\n",
    "Now we iterate over each word in every document to improve these topics. \n",
    "\n",
    "For each word in each document and for each topic t we calcuate:\n",
    "    p(word w | topic t) = \"The porportion of assignments to topic t over all documents that come from this word w\"\n",
    "\n",
    "After repeating the previous step a large number of times, we eventually reach a roughly steady state where the assignments are acceptable. \n",
    "\n",
    "We end up with an output such as:\n",
    "    - Document assigned to Topic #4\n",
    "    - Most common words (highest probability) for Topic #4:\n",
    "        [cat, vet, bird, dogs]\n",
    "    - It is up to the user to intepret these topics\n"
   ]
  },
  {
   "cell_type": "markdown",
   "metadata": {},
   "source": [
    "\n",
    "----\n",
    "\n",
    "### Determining the right number of topics\n",
    "\n",
    "This notebook will explore the implementation of the elbow method to find the right number of topics in the corpus. \n",
    "\n",
    "- Elbow Method (Coherence Score)\n",
    "Similar to the elbow method in K-Means clustering, you can plot the coherence score against the number of topics and look for the point where the improvement starts to diminish.\n",
    "\n",
    "Elbow Method is a heuristic used to determine the optimal number of clusters or topics in a model by plotting the coherence score against the number of topics and looking for an \"elbow\" point where the rate of improvement slows down.\n",
    "\n",
    "Steps:\n",
    "\n",
    "Train Multiple Models: Train LDA models with different numbers of topics.\n",
    "Plot Coherence Scores: Plot the coherence scores for each model.\n",
    "Identify Elbow Point: Look for the point where adding more topics results in diminishing improvements in coherence.\n",
    "Visualization: The plot typically shows coherence score on the y-axis and the number of topics on the x-axis. The optimal number of topics is where the curve has a clear inflection point or \"elbow.\"\n"
   ]
  },
  {
   "cell_type": "markdown",
   "metadata": {},
   "source": [
    "### References \n",
    "https://www.youtube.com/watch?v=be7Xd2Ntai8\n"
   ]
  },
  {
   "cell_type": "code",
   "execution_count": 27,
   "metadata": {},
   "outputs": [
    {
     "data": {
      "text/plain": [
       "True"
      ]
     },
     "execution_count": 27,
     "metadata": {},
     "output_type": "execute_result"
    }
   ],
   "source": [
    "import os\n",
    "import inspect\n",
    "import json\n",
    "import sys\n",
    "import time\n",
    "import logging\n",
    "import uuid \n",
    "import pandas as pd\n",
    "from dotenv import load_dotenv\n",
    "from datetime import datetime\n",
    "from pathlib import Path\n",
    "\n",
    "from operation_battleship_common_utilities.JobPostingDao import JobPostingDao\n",
    "from operation_battleship_common_utilities.CandidateRequirementsDao import CandidateRequirementsDao\n",
    "from operation_battleship_common_utilities.JobResponsibilitiesDao import JobResponsibilitiesDao\n",
    "from operation_battleship_common_utilities.JobSkillsDao import JobSkillsDao\n",
    "from operation_battleship_common_utilities.JobKeyWordsDao import JobKeyWordsDao\n",
    "from operation_battleship_common_utilities.JobTitleCategoryClassifier import JobTitleCategoryClassifier\n",
    "from operation_battleship_common_utilities.FailureLogger import FailureLogger\n",
    "\n",
    "from operation_battleship_common_utilities.NomicAICaller import NomicAICaller\n",
    "from operation_battleship_common_utilities.OpenAICaller import OpenAICaller\n",
    "from operation_battleship_common_utilities.PineConeDatabaseCaller import PineConeDatabaseCaller\n",
    "\n",
    "load_dotenv()"
   ]
  },
  {
   "cell_type": "markdown",
   "metadata": {},
   "source": [
    "### LDA Model per Job Category:\n",
    "\n",
    "For best results, we believe an model for predicting the \"Topic\" of jobs should be done for each of the given Job Categories. Since finding Product Manager type jobs is our top imperitive, we will first train a model using this approach. \n",
    "\n",
    "We will iterate on future experiments for the other job categories. "
   ]
  },
  {
   "cell_type": "code",
   "execution_count": 28,
   "metadata": {},
   "outputs": [
    {
     "name": "stdout",
     "output_type": "stream",
     "text": [
      "Index(['job_posting_id', 'company_id', 'posting_url', 'posting_source',\n",
      "       'posting_source_id', 'job_title', 'full_posting_description',\n",
      "       'job_description', 'is_ai', 'job_salary',\n",
      "       'job_posting_company_information', 'job_posting_date',\n",
      "       'job_insertion_date', 'job_last_collected_date', 'job_active',\n",
      "       'salary_low', 'salary_midpoint', 'salary_high', 'city', 'state',\n",
      "       'is_genai', 'job_skills', 'is_ai_justification', 'work_location_type',\n",
      "       'job_category', 'kmeansclusterid', 'dbscanclusterid', 'opticsclusterid',\n",
      "       'kmeansclustertopicname', 'dbscanclustertopicname',\n",
      "       'opticsclustertopicname'],\n",
      "      dtype='object')\n"
     ]
    }
   ],
   "source": [
    "# Get the list of jobs from the database and print the columns in the DF.\n",
    "jobPostingDao = JobPostingDao()\n",
    "allJobsDf = jobPostingDao.getAllJobs()\n",
    "columns = allJobsDf.columns\n",
    "print(columns)"
   ]
  },
  {
   "cell_type": "code",
   "execution_count": 29,
   "metadata": {},
   "outputs": [],
   "source": [
    "# Only keep the Product Manager jobs\n",
    "allJobsDf = allJobsDf[allJobsDf['job_category'] == 'Product_Management']\n",
    "jobDescriptionDf = jobDescriptionDf.reset_index(drop=True)"
   ]
  },
  {
   "cell_type": "code",
   "execution_count": 30,
   "metadata": {},
   "outputs": [
    {
     "data": {
      "text/html": [
       "<div>\n",
       "<style scoped>\n",
       "    .dataframe tbody tr th:only-of-type {\n",
       "        vertical-align: middle;\n",
       "    }\n",
       "\n",
       "    .dataframe tbody tr th {\n",
       "        vertical-align: top;\n",
       "    }\n",
       "\n",
       "    .dataframe thead th {\n",
       "        text-align: right;\n",
       "    }\n",
       "</style>\n",
       "<table border=\"1\" class=\"dataframe\">\n",
       "  <thead>\n",
       "    <tr style=\"text-align: right;\">\n",
       "      <th></th>\n",
       "      <th>full_posting_description</th>\n",
       "    </tr>\n",
       "  </thead>\n",
       "  <tbody>\n",
       "    <tr>\n",
       "      <th>0</th>\n",
       "      <td>At U.S. Bank, we’re on a journey to do our bes...</td>\n",
       "    </tr>\n",
       "    <tr>\n",
       "      <th>1</th>\n",
       "      <td>Nisum is a leading global digital commerce fir...</td>\n",
       "    </tr>\n",
       "    <tr>\n",
       "      <th>3</th>\n",
       "      <td>Identity. It's what the brave new world of ent...</td>\n",
       "    </tr>\n",
       "    <tr>\n",
       "      <th>4</th>\n",
       "      <td>Identity. It's what the brave new world of ent...</td>\n",
       "    </tr>\n",
       "    <tr>\n",
       "      <th>5</th>\n",
       "      <td>At U.S. Bank, we’re on a journey to do our bes...</td>\n",
       "    </tr>\n",
       "  </tbody>\n",
       "</table>\n",
       "</div>"
      ],
      "text/plain": [
       "                            full_posting_description\n",
       "0  At U.S. Bank, we’re on a journey to do our bes...\n",
       "1  Nisum is a leading global digital commerce fir...\n",
       "3  Identity. It's what the brave new world of ent...\n",
       "4  Identity. It's what the brave new world of ent...\n",
       "5  At U.S. Bank, we’re on a journey to do our bes..."
      ]
     },
     "execution_count": 30,
     "metadata": {},
     "output_type": "execute_result"
    }
   ],
   "source": [
    "# We only need the column that contains the job description. \n",
    "# We will take a short peek at the top records to see a snippet of the values\n",
    "jobDescriptionDf = allJobsDf[['full_posting_description']]\n",
    "jobDescriptionDf.head()\n"
   ]
  },
  {
   "cell_type": "code",
   "execution_count": 31,
   "metadata": {},
   "outputs": [
    {
     "data": {
      "text/plain": [
       "40448"
      ]
     },
     "execution_count": 31,
     "metadata": {},
     "output_type": "execute_result"
    }
   ],
   "source": [
    "# We can see the whole description for one of the rows \n",
    "# We can also see the number of rows in the dataframe\n",
    "#jobDescriptionDf['full_posting_description'][8]\n",
    "len(jobDescriptionDf)"
   ]
  },
  {
   "cell_type": "code",
   "execution_count": 32,
   "metadata": {},
   "outputs": [],
   "source": [
    "# LDA for this notebook will be done using the SkLearn Library. \n",
    "# We will explore GenSim in another notebook\n",
    "from sklearn.feature_extraction.text import CountVectorizer\n"
   ]
  },
  {
   "cell_type": "code",
   "execution_count": 33,
   "metadata": {},
   "outputs": [],
   "source": [
    "# Max DF allows us to ignore certain terms that have really high document frequency. If Software or Product are found in 95% of the jobs, then that term would be excluded.  When max_df=0.9 that means we would discard words that appear in 90% of the documents. \n",
    "# Min DF allows us to set the minimum doc frequcny. If set to an integer value of 5, this would mean that a word would need to show up in at least 5 documents in order to be counted. \n",
    "# For both of these input parameters, you can pass in a ratio of less than 1 or even an integer that specifies a raw number of documents. \n",
    "\n",
    "cv = CountVectorizer(max_df=0.95, min_df=.15, stop_words='english')"
   ]
  },
  {
   "cell_type": "code",
   "execution_count": 34,
   "metadata": {},
   "outputs": [],
   "source": [
    "dtm = cv.fit_transform(jobDescriptionDf['full_posting_description'])"
   ]
  },
  {
   "cell_type": "code",
   "execution_count": 35,
   "metadata": {},
   "outputs": [
    {
     "data": {
      "text/plain": [
       "<40448x499 sparse matrix of type '<class 'numpy.int64'>'\n",
       "\twith 6617230 stored elements in Compressed Sparse Row format>"
      ]
     },
     "execution_count": 35,
     "metadata": {},
     "output_type": "execute_result"
    }
   ],
   "source": [
    "dtm"
   ]
  },
  {
   "cell_type": "code",
   "execution_count": 36,
   "metadata": {},
   "outputs": [],
   "source": [
    "# I don't know the correct number of topics, choosing a value for now and we will look for scientific approaches to this later. \n",
    "from sklearn.decomposition import LatentDirichletAllocation\n",
    "\n",
    "totalTopics = 25\n",
    "randomSeed = 42\n",
    "\n",
    "lda = LatentDirichletAllocation(n_components=totalTopics, random_state=randomSeed)"
   ]
  },
  {
   "cell_type": "code",
   "execution_count": 37,
   "metadata": {},
   "outputs": [],
   "source": [
    "lda.fit(dtm)"
   ]
  },
  {
   "cell_type": "code",
   "execution_count": null,
   "metadata": {},
   "outputs": [
    {
     "name": "stdout",
     "output_type": "stream",
     "text": [
      "499\n",
      "<class 'numpy.ndarray'>\n",
      "candidate\n"
     ]
    }
   ],
   "source": [
    "# Explore the vocabulary of the words\n",
    "# How many words are in the corpus? \n",
    "# What is the object type of the get feature names?\n",
    "\n",
    "print( len(cv.get_feature_names_out()) )\n",
    "print (type(cv.get_feature_names_out()) )\n",
    "print (cv.get_feature_names_out()[55])\n",
    "\n"
   ]
  },
  {
   "cell_type": "code",
   "execution_count": null,
   "metadata": {},
   "outputs": [],
   "source": [
    "# Get the feature names\n",
    "feature_names = cv.get_feature_names_out()\n",
    "\n",
    "# Write the feature names to a file, each on a new line\n",
    "with open('features.txt', 'w', encoding='utf-8') as f:\n",
    "    for feature in feature_names:\n",
    "        f.write(feature + '\\n')"
   ]
  },
  {
   "cell_type": "code",
   "execution_count": null,
   "metadata": {},
   "outputs": [
    {
     "name": "stdout",
     "output_type": "stream",
     "text": [
      "25\n",
      "<class 'numpy.ndarray'>\n",
      "(25, 499)\n"
     ]
    }
   ],
   "source": [
    "# Grab the topics\n",
    "print (len(lda.components_))\n",
    "print (type(lda.components_))\n",
    "print(lda.components_.shape)\n"
   ]
  },
  {
   "cell_type": "code",
   "execution_count": null,
   "metadata": {},
   "outputs": [
    {
     "data": {
      "text/plain": [
       "array([184,  20, 414, 217, 331, 330, 487, 263, 368, 180, 219,  79, 410,\n",
       "         0, 242, 253, 467, 153,  41, 154,  36, 139, 370, 172, 376, 314,\n",
       "       293, 203, 347, 341, 393, 148, 295, 233, 493, 294,  16,  10,   2,\n",
       "       351, 373,   3, 374, 329, 495, 271,  59, 354,   1, 170, 399, 126,\n",
       "        65, 168, 210, 205, 138, 189,  99, 446, 225, 473, 252, 216,  71,\n",
       "       344, 342, 105,  70, 137, 488,  30, 262, 214, 425, 343, 303, 240,\n",
       "        14, 479,  58,  52,  72,  68, 469,  63, 277, 401, 206, 447, 352,\n",
       "       359, 190,  22, 391, 350, 250, 362, 333, 194, 158, 463,  90, 209,\n",
       "       199,  54,  21, 284, 221, 192, 136, 260, 433, 258, 149, 208, 279,\n",
       "        48, 114, 397,  35, 417, 268, 451, 281, 419, 478, 245, 326, 377,\n",
       "       247, 200, 482, 270, 159, 299, 229,  15, 336, 119, 361, 285, 380,\n",
       "       456, 289, 238, 174, 300, 177, 383, 162, 176, 224, 288, 400, 280,\n",
       "       442, 110, 338, 418, 195,  33, 434, 193, 257, 147, 246, 235, 120,\n",
       "       182,  26, 207, 186, 259, 107, 131, 406,  51, 371, 234, 146, 236,\n",
       "       402,  17, 128, 175, 358, 181,  95, 292, 165, 364,  83, 317,  61,\n",
       "       459, 116, 164, 125, 265, 335, 173, 367, 132, 171, 226,  89, 109,\n",
       "       386, 349,   5, 484,  93, 494, 135, 227,  82, 141, 483, 101,   7,\n",
       "       355, 496,  34,  87, 276, 458,  49, 218, 345, 151, 127, 382, 215,\n",
       "       311, 312, 408,  27, 339, 309, 432,  85, 243, 322, 321, 183, 220,\n",
       "       366, 369, 310, 489, 204,  75, 212,  64, 316, 431, 130, 102, 332,\n",
       "        25, 464, 134, 117, 179, 454, 297,  12,  46, 106, 169, 357,  13,\n",
       "       476, 118, 363,   6, 304,  24,   9,  94,  37, 291,  76,  74, 372,\n",
       "       202, 394, 301, 449, 481, 395, 468,  98,  77, 140, 384, 286,  31,\n",
       "       328, 324, 167, 423,  47, 392, 424, 287,   8, 261, 319, 323, 381,\n",
       "        38, 166, 211,  92, 185, 429, 466,  96,  88, 356,  18,  32,  66,\n",
       "       387, 121, 302, 313, 485, 143,  44, 413,  43, 115, 388, 385, 155,\n",
       "       389, 348, 197,  97, 405, 178, 465,  80, 477, 266, 472, 231, 437,\n",
       "        81, 269, 272, 411, 256, 222, 360, 320, 163, 142, 470, 315, 232,\n",
       "       223, 475, 196, 409, 416, 100,  23, 161, 346, 443, 439,  69, 244,\n",
       "       248, 157, 264, 104, 337, 412,   4, 390,  19, 274, 422, 290, 403,\n",
       "        56, 145, 305, 278,  55, 275, 441,  86, 213, 228,  67,  62, 298,\n",
       "        73, 308, 445, 267, 241, 251, 420,  50, 318, 428, 426, 460, 254,\n",
       "        60, 427, 112, 440, 379, 325, 152,  29,  78, 461, 201, 378, 492,\n",
       "       474, 398, 150,  84, 133, 273,  45, 255, 396, 436, 188, 230, 103,\n",
       "       498, 421, 450, 435,  40, 452, 444, 307, 108,  91, 239, 296,  39,\n",
       "       198, 187, 471, 122, 490, 124,  11, 480,  57, 340, 113, 282, 334,\n",
       "       283, 123,  28,  42, 430, 191, 375, 448, 156, 249, 407, 462, 327,\n",
       "       486, 306, 144, 491, 404, 353, 438, 129, 111, 365, 237, 497, 160,\n",
       "       457, 453, 415,  53, 455], dtype=int64)"
      ]
     },
     "execution_count": 19,
     "metadata": {},
     "output_type": "execute_result"
    }
   ],
   "source": [
    "# Each row of lda.components represents a topic. Remember, there are K Topics (We set K to 25)\n",
    "# Arg sort will give us the ranked order for each index value of the high probability words. \n",
    "# array([10, 200, 1]) would show:\n",
    "# arraye([2, 0 , 1]) Array index 2 has the lowest value, index 0 has the second lowest value and index 1 has the this lowest value. \n",
    "singleTopic = lda.components_[0]\n",
    "singleTopic.argsort()"
   ]
  },
  {
   "cell_type": "code",
   "execution_count": null,
   "metadata": {},
   "outputs": [
    {
     "data": {
      "text/plain": [
       "array([111, 365, 237, 497, 160, 457, 453, 415,  53, 455], dtype=int64)"
      ]
     },
     "execution_count": 20,
     "metadata": {},
     "output_type": "execute_result"
    }
   ],
   "source": [
    "# We can get the ten highest probability words for this topic:\n",
    "# Reminder: Arg Sort --> Index Positions sorted from Least -> Greatest\n",
    "# Starting at index postiion -10, go all the way to the end.\n",
    "singleTopic.argsort()[-10:]\n",
    "\n",
    "\n"
   ]
  },
  {
   "cell_type": "code",
   "execution_count": null,
   "metadata": {},
   "outputs": [
    {
     "name": "stdout",
     "output_type": "stream",
     "text": [
      "provide\n",
      "support\n",
      "employment\n",
      "key\n",
      "role\n",
      "time\n",
      "owner\n",
      "vision\n",
      "new\n",
      "drive\n",
      "working\n",
      "risk\n",
      "position\n",
      "status\n",
      "design\n",
      "customer\n",
      "products\n",
      "information\n",
      "years\n",
      "engineering\n",
      "technology\n",
      "teams\n",
      "security\n",
      "business\n",
      "technical\n"
     ]
    }
   ],
   "source": [
    "# Create an array of the words and then print the words\n",
    "topWordsForTopic = singleTopic.argsort()[-25:]\n",
    "\n",
    "for index in topWordsForTopic:\n",
    "    print(cv.get_feature_names_out()[index])"
   ]
  },
  {
   "cell_type": "code",
   "execution_count": null,
   "metadata": {},
   "outputs": [
    {
     "name": "stdout",
     "output_type": "stream",
     "text": [
      "The Top 15 words for topic #0]\n",
      "['working', 'risk', 'position', 'status', 'design', 'customer', 'products', 'information', 'years', 'engineering', 'technology', 'teams', 'security', 'business', 'technical']\n",
      "\n",
      "\n",
      "\n",
      "\n",
      "The Top 15 words for topic #1]\n",
      "['technology', 'want', 'experiences', 'position', 'role', 'status', 'business', 'work', 'time', 'management', 'customer', 'new', 'customers', 'team', 'll']\n",
      "\n",
      "\n",
      "\n",
      "\n",
      "The Top 15 words for topic #2]\n",
      "['range', 'digital', 'people', 'including', 'global', 'inclusive', 'paid', 'learning', 'employees', 'team', 'benefits', 'skills', 'company', 'life', 'work']\n",
      "\n",
      "\n",
      "\n",
      "\n",
      "The Top 15 words for topic #3]\n",
      "['ensure', 'customer', 'vision', 'user', 'benefits', 'requirements', 'members', 'owner', 'delivery', 'value', 'backlog', 'work', 'agile', 'business', 'team']\n",
      "\n",
      "\n",
      "\n",
      "\n",
      "The Top 15 words for topic #4]\n",
      "['company', 'protected', 'plans', 'range', 'define', 'including', 'compensation', 'software', 'management', 'ability', 'skills', 'status', 'business', 'customer', 'market']\n",
      "\n",
      "\n",
      "\n",
      "\n",
      "The Top 15 words for topic #5]\n",
      "['customers', 'qualifications', 'requirements', 'applicable', 'team', 'range', 'status', 'years', 'customer', 'work', 'management', 'cloud', 'security', 'pay', 'role']\n",
      "\n",
      "\n",
      "\n",
      "\n",
      "The Top 15 words for topic #6]\n",
      "['team', 'design', 'business', 'quality', 'services', 'data', 'solutions', 'products', 'skills', 'work', 'requirements', 'clients', 'client', 'development', 'management']\n",
      "\n",
      "\n",
      "\n",
      "\n",
      "The Top 15 words for topic #7]\n",
      "['salary', 'team', 'range', 'location', 'skills', 'requirements', 'role', 'information', 'opportunity', 'employment', 'development', 'business', 'position', 'work', 'job']\n",
      "\n",
      "\n",
      "\n",
      "\n",
      "The Top 15 words for topic #8]\n",
      "['world', 'business', 'technologies', 'products', 'teams', 'solutions', 'engineering', 'enterprise', 'customers', 'work', 'platform', 'ai', 'technical', 'data', 'cloud']\n",
      "\n",
      "\n",
      "\n",
      "\n",
      "The Top 15 words for topic #9]\n",
      "['role', 'insurance', 'people', 'opportunity', '000', 'employment', 'customers', 'status', 'paid', 'vision', 'time', 'benefits', 'company', 'team', 'work']\n",
      "\n",
      "\n",
      "\n",
      "\n",
      "The Top 15 words for topic #10]\n",
      "['work', 'solutions', 'service', 'development', 'marketing', 'strategy', 'new', 'support', 'management', 'business', 'sales', 'products', 'market', 'customers', 'customer']\n",
      "\n",
      "\n",
      "\n",
      "\n",
      "The Top 15 words for topic #11]\n",
      "['develop', 'support', 'work', 'skills', 'including', 'new', 'manager', 'development', 'business', 'management', 'ability', 'market', 'products', 'sales', 'marketing']\n",
      "\n",
      "\n",
      "\n",
      "\n",
      "The Top 15 words for topic #12]\n",
      "['development', 'process', 'processes', 'support', 'years', 'knowledge', 'systems', 'required', 'program', 'skills', 'technical', 'work', 'project', 'management', 'business']\n",
      "\n",
      "\n",
      "\n",
      "\n",
      "The Top 15 words for topic #13]\n",
      "['status', 'visit', 'com', 'technical', 'teams', 'https', 'customers', 'work', 'job', 'team', 'position', 'market', 'www', 'compensation', 'business']\n",
      "\n",
      "\n",
      "\n",
      "\n",
      "The Top 15 words for topic #14]\n",
      "['role', 'skills', 'll', 'ability', 'growth', 'join', 'products', 'strong', 'environment', 'software', 'management', 'development', 'company', 'team', 'work']\n",
      "\n",
      "\n",
      "\n",
      "\n",
      "The Top 15 words for topic #15]\n",
      "['digital', 'features', 'management', 'work', 'skills', 'agile', 'technical', 'ability', 'stakeholders', 'requirements', 'team', 'teams', 'development', 'business', 'user']\n",
      "\n",
      "\n",
      "\n",
      "\n",
      "The Top 15 words for topic #16]\n",
      "['job', 'management', 'employee', 'life', 'insurance', 'based', 'range', 'disability', 'data', 'paid', 'including', 'employees', 'financial', 'health', 'benefits']\n",
      "\n",
      "\n",
      "\n",
      "\n",
      "The Top 15 words for topic #17]\n",
      "['teams', 'world', 'equal', 'opportunities', 'work', 'business', 'team', 'opportunity', 'people', 'information', 'com', 'solutions', 'status', 'technology', 'global']\n",
      "\n",
      "\n",
      "\n",
      "\n",
      "The Top 15 words for topic #18]\n",
      "['ability', 'strong', 'driven', 'strategy', 'drive', 'performance', 'skills', 'teams', 'products', 'insights', 'analytics', 'customer', 'business', 'market', 'data']\n",
      "\n",
      "\n",
      "\n",
      "\n",
      "The Top 15 words for topic #19]\n",
      "['working', 'strategy', 'salary', 'engineering', '000', 'platform', 'range', 'benefits', 'teams', 'work', 'products', 'role', 'business', 'team', 'data']\n",
      "\n",
      "\n",
      "\n",
      "\n",
      "The Top 15 words for topic #20]\n",
      "['services', 'role', 'management', 'manager', 'york', 'applicable', 'status', 'new', 'information', 'years', 'position', 'business', 'employment', 'time', 'technical']\n",
      "\n",
      "\n",
      "\n",
      "\n",
      "The Top 15 words for topic #21]\n",
      "['requirements', 'provides', 'development', 'services', 'business', 'laws', 'opportunity', 'required', 'year', 'time', 'federal', 'benefits', 'state', 'local', 'work']\n",
      "\n",
      "\n",
      "\n",
      "\n",
      "The Top 15 words for topic #22]\n",
      "['origin', 'color', 'race', 'religion', 'strong', 'ability', 'employment', 'management', 'risk', 'protected', 'gender', 'data', 'status', 'digital', 'business']\n",
      "\n",
      "\n",
      "\n",
      "\n",
      "The Top 15 words for topic #23]\n",
      "['year', 'details', 'manager', '000', 'com', 'email', 'new', 'market', 'products', 'management', 'job', 'role', 'customer', 'apply', 'ai']\n",
      "\n",
      "\n",
      "\n",
      "\n",
      "The Top 15 words for topic #24]\n",
      "['building', 'accommodations', 'opportunity', 'cross', 'disability', 'design', 'years', 'team', 'gender', 'people', 'help', 'build', 'world', 'status', 'products']\n",
      "\n",
      "\n",
      "\n",
      "\n"
     ]
    }
   ],
   "source": [
    "# Grab the highest probability words per topic\n",
    "\n",
    "for i,topic in enumerate(lda.components_):\n",
    "    print(f\"The Top 15 words for topic #{i}]\")\n",
    "    print([cv.get_feature_names_out()[index] for index in topic.argsort()[-15:]])\n",
    "    print(\"\\n\")\n",
    "    print(\"\\n\")"
   ]
  },
  {
   "cell_type": "code",
   "execution_count": null,
   "metadata": {},
   "outputs": [],
   "source": [
    "topicResults = lda.transform(dtm)"
   ]
  },
  {
   "cell_type": "code",
   "execution_count": null,
   "metadata": {},
   "outputs": [
    {
     "name": "stdout",
     "output_type": "stream",
     "text": [
      "(40388, 25)\n",
      "[0.   0.   0.   0.   0.   0.   0.   0.   0.   0.   0.   0.   0.   0.94\n",
      " 0.   0.   0.   0.   0.   0.   0.   0.   0.   0.06 0.  ]\n"
     ]
    }
   ],
   "source": [
    "# An array where each row is the job description and each column is a probability that the topic is represented in this document. \n",
    "print(topicResults.shape)\n",
    "\n",
    "# For document at index 50, round to two decimal places to see the probability of the topic being represented\n",
    "print(topicResults[50].round(2))"
   ]
  },
  {
   "cell_type": "code",
   "execution_count": null,
   "metadata": {},
   "outputs": [
    {
     "data": {
      "image/png": "[encoded data removed]",
      "text/plain": [
       "<Figure size 1000x800 with 1 Axes>"
      ]
     },
     "metadata": {},
     "output_type": "display_data"
    }
   ],
   "source": [
    "#Lets see this in a visual representation now\n",
    "import matplotlib.pyplot as plt\n",
    "import numpy as np\n",
    "\n",
    "# For document at index 50, round to two decimal places\n",
    "topic_probs = topicResults[50].round(2)\n",
    "\n",
    "# Number of topics (assuming you have 25 topics)\n",
    "num_topics = len(topic_probs)\n",
    "\n",
    "# Create a horizontal bar chart\n",
    "plt.figure(figsize=(10, 8))\n",
    "plt.barh(np.arange(num_topics), topic_probs, align='center', alpha=0.7)\n",
    "plt.yticks(np.arange(num_topics), [f'Topic {i+1}' for i in range(num_topics)])\n",
    "plt.xlabel('Probability')\n",
    "plt.title('Topic Probabilities for Document #50')\n",
    "plt.gca().invert_yaxis()  # Invert y-axis to have topic 1 at the top\n",
    "plt.show()"
   ]
  },
  {
   "cell_type": "markdown",
   "metadata": {},
   "source": [
    "**Topic 13 Words**\n",
    "\n",
    "The Top 15 words for topic #13]\n",
    "['required', 'information', 'client', 'team', 'process', 'analysis', 'program', 'projects', 'requirements', 'skills', 'support', 'work', 'management', 'business', 'project']"
   ]
  },
  {
   "cell_type": "code",
   "execution_count": 26,
   "metadata": {},
   "outputs": [
    {
     "ename": "KeyError",
     "evalue": "50",
     "output_type": "error",
     "traceback": [
      "\u001b[1;31m---------------------------------------------------------------------------\u001b[0m",
      "\u001b[1;31mKeyError\u001b[0m                                  Traceback (most recent call last)",
      "File \u001b[1;32mc:\\Users\\caraw\\AppData\\Local\\Programs\\Python\\Python311\\Lib\\site-packages\\pandas\\core\\indexes\\base.py:3805\u001b[0m, in \u001b[0;36mIndex.get_loc\u001b[1;34m(self, key)\u001b[0m\n\u001b[0;32m   3804\u001b[0m \u001b[38;5;28;01mtry\u001b[39;00m:\n\u001b[1;32m-> 3805\u001b[0m     \u001b[38;5;28;01mreturn\u001b[39;00m \u001b[38;5;28;43mself\u001b[39;49m\u001b[38;5;241;43m.\u001b[39;49m\u001b[43m_engine\u001b[49m\u001b[38;5;241;43m.\u001b[39;49m\u001b[43mget_loc\u001b[49m\u001b[43m(\u001b[49m\u001b[43mcasted_key\u001b[49m\u001b[43m)\u001b[49m\n\u001b[0;32m   3806\u001b[0m \u001b[38;5;28;01mexcept\u001b[39;00m \u001b[38;5;167;01mKeyError\u001b[39;00m \u001b[38;5;28;01mas\u001b[39;00m err:\n",
      "File \u001b[1;32mindex.pyx:167\u001b[0m, in \u001b[0;36mpandas._libs.index.IndexEngine.get_loc\u001b[1;34m()\u001b[0m\n",
      "File \u001b[1;32mindex.pyx:196\u001b[0m, in \u001b[0;36mpandas._libs.index.IndexEngine.get_loc\u001b[1;34m()\u001b[0m\n",
      "File \u001b[1;32mpandas\\\\_libs\\\\hashtable_class_helper.pxi:2606\u001b[0m, in \u001b[0;36mpandas._libs.hashtable.Int64HashTable.get_item\u001b[1;34m()\u001b[0m\n",
      "File \u001b[1;32mpandas\\\\_libs\\\\hashtable_class_helper.pxi:2630\u001b[0m, in \u001b[0;36mpandas._libs.hashtable.Int64HashTable.get_item\u001b[1;34m()\u001b[0m\n",
      "\u001b[1;31mKeyError\u001b[0m: 50",
      "\nThe above exception was the direct cause of the following exception:\n",
      "\u001b[1;31mKeyError\u001b[0m                                  Traceback (most recent call last)",
      "Cell \u001b[1;32mIn[26], line 2\u001b[0m\n\u001b[0;32m      1\u001b[0m \u001b[38;5;66;03m# For the topic with this highest probability, we can look at the document and see what it says and get an intution for the topic itself. \u001b[39;00m\n\u001b[1;32m----> 2\u001b[0m \u001b[43mjobDescriptionDf\u001b[49m\u001b[43m[\u001b[49m\u001b[38;5;124;43m'\u001b[39;49m\u001b[38;5;124;43mfull_posting_description\u001b[39;49m\u001b[38;5;124;43m'\u001b[39;49m\u001b[43m]\u001b[49m\u001b[43m[\u001b[49m\u001b[38;5;241;43m50\u001b[39;49m\u001b[43m]\u001b[49m\n",
      "File \u001b[1;32mc:\\Users\\caraw\\AppData\\Local\\Programs\\Python\\Python311\\Lib\\site-packages\\pandas\\core\\series.py:1121\u001b[0m, in \u001b[0;36mSeries.__getitem__\u001b[1;34m(self, key)\u001b[0m\n\u001b[0;32m   1118\u001b[0m     \u001b[38;5;28;01mreturn\u001b[39;00m \u001b[38;5;28mself\u001b[39m\u001b[38;5;241m.\u001b[39m_values[key]\n\u001b[0;32m   1120\u001b[0m \u001b[38;5;28;01melif\u001b[39;00m key_is_scalar:\n\u001b[1;32m-> 1121\u001b[0m     \u001b[38;5;28;01mreturn\u001b[39;00m \u001b[38;5;28;43mself\u001b[39;49m\u001b[38;5;241;43m.\u001b[39;49m\u001b[43m_get_value\u001b[49m\u001b[43m(\u001b[49m\u001b[43mkey\u001b[49m\u001b[43m)\u001b[49m\n\u001b[0;32m   1123\u001b[0m \u001b[38;5;66;03m# Convert generator to list before going through hashable part\u001b[39;00m\n\u001b[0;32m   1124\u001b[0m \u001b[38;5;66;03m# (We will iterate through the generator there to check for slices)\u001b[39;00m\n\u001b[0;32m   1125\u001b[0m \u001b[38;5;28;01mif\u001b[39;00m is_iterator(key):\n",
      "File \u001b[1;32mc:\\Users\\caraw\\AppData\\Local\\Programs\\Python\\Python311\\Lib\\site-packages\\pandas\\core\\series.py:1237\u001b[0m, in \u001b[0;36mSeries._get_value\u001b[1;34m(self, label, takeable)\u001b[0m\n\u001b[0;32m   1234\u001b[0m     \u001b[38;5;28;01mreturn\u001b[39;00m \u001b[38;5;28mself\u001b[39m\u001b[38;5;241m.\u001b[39m_values[label]\n\u001b[0;32m   1236\u001b[0m \u001b[38;5;66;03m# Similar to Index.get_value, but we do not fall back to positional\u001b[39;00m\n\u001b[1;32m-> 1237\u001b[0m loc \u001b[38;5;241m=\u001b[39m \u001b[38;5;28;43mself\u001b[39;49m\u001b[38;5;241;43m.\u001b[39;49m\u001b[43mindex\u001b[49m\u001b[38;5;241;43m.\u001b[39;49m\u001b[43mget_loc\u001b[49m\u001b[43m(\u001b[49m\u001b[43mlabel\u001b[49m\u001b[43m)\u001b[49m\n\u001b[0;32m   1239\u001b[0m \u001b[38;5;28;01mif\u001b[39;00m is_integer(loc):\n\u001b[0;32m   1240\u001b[0m     \u001b[38;5;28;01mreturn\u001b[39;00m \u001b[38;5;28mself\u001b[39m\u001b[38;5;241m.\u001b[39m_values[loc]\n",
      "File \u001b[1;32mc:\\Users\\caraw\\AppData\\Local\\Programs\\Python\\Python311\\Lib\\site-packages\\pandas\\core\\indexes\\base.py:3812\u001b[0m, in \u001b[0;36mIndex.get_loc\u001b[1;34m(self, key)\u001b[0m\n\u001b[0;32m   3807\u001b[0m     \u001b[38;5;28;01mif\u001b[39;00m \u001b[38;5;28misinstance\u001b[39m(casted_key, \u001b[38;5;28mslice\u001b[39m) \u001b[38;5;129;01mor\u001b[39;00m (\n\u001b[0;32m   3808\u001b[0m         \u001b[38;5;28misinstance\u001b[39m(casted_key, abc\u001b[38;5;241m.\u001b[39mIterable)\n\u001b[0;32m   3809\u001b[0m         \u001b[38;5;129;01mand\u001b[39;00m \u001b[38;5;28many\u001b[39m(\u001b[38;5;28misinstance\u001b[39m(x, \u001b[38;5;28mslice\u001b[39m) \u001b[38;5;28;01mfor\u001b[39;00m x \u001b[38;5;129;01min\u001b[39;00m casted_key)\n\u001b[0;32m   3810\u001b[0m     ):\n\u001b[0;32m   3811\u001b[0m         \u001b[38;5;28;01mraise\u001b[39;00m InvalidIndexError(key)\n\u001b[1;32m-> 3812\u001b[0m     \u001b[38;5;28;01mraise\u001b[39;00m \u001b[38;5;167;01mKeyError\u001b[39;00m(key) \u001b[38;5;28;01mfrom\u001b[39;00m \u001b[38;5;21;01merr\u001b[39;00m\n\u001b[0;32m   3813\u001b[0m \u001b[38;5;28;01mexcept\u001b[39;00m \u001b[38;5;167;01mTypeError\u001b[39;00m:\n\u001b[0;32m   3814\u001b[0m     \u001b[38;5;66;03m# If we have a listlike key, _check_indexing_error will raise\u001b[39;00m\n\u001b[0;32m   3815\u001b[0m     \u001b[38;5;66;03m#  InvalidIndexError. Otherwise we fall through and re-raise\u001b[39;00m\n\u001b[0;32m   3816\u001b[0m     \u001b[38;5;66;03m#  the TypeError.\u001b[39;00m\n\u001b[0;32m   3817\u001b[0m     \u001b[38;5;28mself\u001b[39m\u001b[38;5;241m.\u001b[39m_check_indexing_error(key)\n",
      "\u001b[1;31mKeyError\u001b[0m: 50"
     ]
    }
   ],
   "source": [
    "# For the topic with this highest probability, we can look at the document and see what it says and get an intution for the topic itself. \n",
    "jobDescriptionDf['full_posting_description'][50]\n"
   ]
  },
  {
   "cell_type": "code",
   "execution_count": 41,
   "metadata": {},
   "outputs": [
    {
     "name": "stdout",
     "output_type": "stream",
     "text": [
      "12\n"
     ]
    }
   ],
   "source": [
    "# Run Argmax to just get the index position of the highest probability\n",
    "# Note the offset value. We list 12 here, but the chart above shows 13 due to indexes starting at zero.  \n",
    "print(topicResults[50].argmax())"
   ]
  },
  {
   "cell_type": "code",
   "execution_count": 43,
   "metadata": {},
   "outputs": [],
   "source": [
    "# We can create a new column in the original datframe and apply the topic to the job posting\n",
    "jobDescriptionDf.loc[:, \"Topic\"] = topicResults.argmax(axis=1)"
   ]
  },
  {
   "cell_type": "code",
   "execution_count": 46,
   "metadata": {},
   "outputs": [
    {
     "name": "stdout",
     "output_type": "stream",
     "text": [
      "Index(['full_posting_description', 'Topic'], dtype='object')\n",
      "(69413, 2)\n"
     ]
    }
   ],
   "source": [
    "print(jobDescriptionDf.columns)\n",
    "print(jobDescriptionDf.shape)"
   ]
  },
  {
   "cell_type": "code",
   "execution_count": 47,
   "metadata": {},
   "outputs": [
    {
     "data": {
      "image/png": "[encoded data removed]",
      "text/plain": [
       "<Figure size 1200x800 with 1 Axes>"
      ]
     },
     "metadata": {},
     "output_type": "display_data"
    }
   ],
   "source": [
    "# We can explore the distribution of topics across the documents. \n",
    "# Step 1: Count the occurrences of each topic\n",
    "topic_counts = jobDescriptionDf['Topic'].value_counts().sort_index()\n",
    "\n",
    "# Step 2: Create the horizontal bar chart\n",
    "plt.figure(figsize=(12, 8))\n",
    "plt.barh(topic_counts.index, topic_counts.values, color='skyblue', alpha=0.7)\n",
    "plt.xlabel('Number of Documents')\n",
    "plt.ylabel('Topic')\n",
    "plt.title('Distribution of Topics in Job Descriptions')\n",
    "plt.xticks(rotation=45)\n",
    "plt.grid(axis='x', linestyle='--', alpha=0.7)\n",
    "\n",
    "# Show the chart\n",
    "plt.show()"
   ]
  },
  {
   "cell_type": "code",
   "execution_count": 51,
   "metadata": {},
   "outputs": [],
   "source": [
    "# We can grab an example of each topic, using the most recent documents. \n",
    "# We will then build a prompt for Chat GPT and ask it to apply some possible labels to these topics. \n",
    "\n",
    "\n",
    "# Reverse the DataFrame to start from the last row\n",
    "reversed_df = jobDescriptionDf.iloc[::-1]\n",
    "\n",
    "# Extract one example row for each unique topic\n",
    "example_rows = reversed_df.groupby('Topic').first().reset_index()\n",
    "\n",
    "# Write the example rows to a file with utf-8 encoding\n",
    "with open('topics.txt', 'w', encoding='utf-8') as file:\n",
    "    for index, row in example_rows.iterrows():\n",
    "        file.write(f\"Topic: {row['Topic']}\\n\")\n",
    "        file.write(f\"Description: {row['full_posting_description']}\\n\")\n",
    "        file.write(\"\\n ######### \\n\")\n"
   ]
  },
  {
   "cell_type": "code",
   "execution_count": 53,
   "metadata": {},
   "outputs": [],
   "source": [
    "# Maybe we want three example records for each topic\n",
    "\n",
    "# Reverse the DataFrame to start from the last row\n",
    "reversed_df = jobDescriptionDf.iloc[::-1]\n",
    "\n",
    "# Extract three example rows for each unique topic\n",
    "example_rows = reversed_df.groupby('Topic').head(3).reset_index(drop=True)\n",
    "\n",
    "# Write the example rows to a file with utf-8 encoding\n",
    "with open('topicsThreeJobDescriptions.txt', 'w', encoding='utf-8') as file:\n",
    "    current_topic = None\n",
    "    for index, row in example_rows.iterrows():\n",
    "        if row['Topic'] != current_topic:\n",
    "            if current_topic is not None:\n",
    "                file.write(\"\\n\")\n",
    "            current_topic = row['Topic']\n",
    "            file.write(f\"Topic: {current_topic}\\n\")\n",
    "        file.write(f\"Job Description {index % 3 + 1}: {row['full_posting_description']}\\n #### \\n\")\n",
    "\n"
   ]
  },
  {
   "cell_type": "code",
   "execution_count": 57,
   "metadata": {},
   "outputs": [],
   "source": [
    "import pandas as pd\n",
    "\n",
    "# Assuming jobDescriptionDf is already created\n",
    "# jobDescriptionDf = pd.read_csv('your_file.csv')  # Example to load DataFrame from a CSV\n",
    "\n",
    "# Reverse the DataFrame to start from the last row\n",
    "reversed_df = jobDescriptionDf.iloc[::-1]\n",
    "\n",
    "# Extract the last three rows for each unique topic\n",
    "example_rows = reversed_df.groupby('Topic').head(3)\n",
    "\n",
    "# Write the example rows to a file with utf-8 encoding\n",
    "with open('topicsThreeJobDescriptions.txt', 'w', encoding='utf-8') as file:\n",
    "    for topic, group in example_rows.groupby('Topic'):\n",
    "        file.write(f\"Time for a new topic. \\n Topic: {topic}\\n\")\n",
    "        for index, row in group.iterrows():\n",
    "            file.write(f\"Job Description {index + 1}: \\n {row['full_posting_description']}\\n #### \\n\")\n",
    "        file.write(\"\\n\")\n"
   ]
  }
 ],
 "metadata": {
  "kernelspec": {
   "display_name": "Python 3",
   "language": "python",
   "name": "python3"
  },
  "language_info": {
   "codemirror_mode": {
    "name": "ipython",
    "version": 3
   },
   "file_extension": ".py",
   "mimetype": "text/x-python",
   "name": "python",
   "nbconvert_exporter": "python",
   "pygments_lexer": "ipython3",
   "version": "3.11.0"
  }
 },
 "nbformat": 4,
 "nbformat_minor": 2
}
