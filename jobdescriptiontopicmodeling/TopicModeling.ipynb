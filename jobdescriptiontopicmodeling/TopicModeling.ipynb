{
 "cells": [
  {
   "cell_type": "markdown",
   "metadata": {},
   "source": [
    "# Topic Modeling of Job Descriptions\n",
    "\n",
    "### Purpose:\n",
    "Our users have looked at the list of recommended jobs and often said things like, \"I want to find jobs that are similar to this one.\". They want the ability to explore other jobs and find the right fit for their career. We are exploring multiple routes to solve this user need. We hypothesize that by using Topic Modeling (LDA) on the job descriptions, we will be able to categorize jobs into buckets that represent similar opportunities as each other. \"Jobs like this one\" will probably have similar words used to describe the role and the required activities. \n",
    "\n",
    "**Experiment to Consider:**\n",
    "I wonder if the company name for the job might bias some of the topics that are identified. There are some companies that have many jobs posted. We might want to consider removing the company name from the corpus before we apply LDA. \n",
    "\n",
    "### Other solutions to consider:\n",
    "- 2d Projection of the embeddings: This has merit because it allows the user to see all jobs in one big view and allows them to explore all the opportunites. However, it is non-intuitive for non-technical users. We've recieved mixed feedback on the use of an embeddings map to service this need.  \n",
    "- Semantic Search: This approach is interesting because it is likely the lowest LOE, but the major drawback is that we might just return jobs from the same company and might not serve the true need of the user. \n",
    "- Clustering Algorithms: Various clustering algorithms would allow us to see the grouping of different jobs based on reduced features from the original high dimension space. We have experimented with this by taking the 768 dimension embedding and applying PCA to reduce down to 250 dimensions. The key challenge with this approach is that PCA data is non-linear and most clustering algortithms assume linear relationships in the data. Also, we wouldn't know WHY the clusters are created. \n",
    "\n",
    "----\n",
    "\n"
   ]
  },
  {
   "cell_type": "markdown",
   "metadata": {},
   "source": [
    "## About LDA:\n",
    "\n",
    "At a high level: \n",
    "The user has to manually choose the number of topics that should be discovered in the training corpus. This should be driven by a combination of domain knowledge and also experimentation. \n",
    "\n",
    "LDA will parse all the documents at then determine which words are typically shwon with high frequency for a given topic. \n",
    "\n",
    "We can then pass in a document and given the word distrubution, the model will tell us which topic this likely is associated with. \n",
    "\n",
    "- Assumptions of LDA for Topic Modeling:\n",
    "    - Documents with similar topics use similar groups of words\n",
    "    - Latent topics can then be found by search for groups of words that frequently occur together in the documents across the corpus. \n",
    "\n",
    "Mathmatically Speaking...\n",
    "- Assumptions of LDA for Topic Modeling\n",
    "    - Documents are probability distributions over latent topics\n",
    "    - Topics themselves are probability distributions over words. \n",
    "\n",
    "\n",
    "We are NOT saying that Document 1 is an example Topic 1. Instead we are saying that there is a probability that Document 1 is an example of Topic 1 because it contains many words that are found in Topic 1. There is a greater probability that it is an example of Topic 1, but there is also a chance it could be another one of the given topics too, just a lower probability of this. \n",
    "\n",
    "LDA represents documents as mixtures of topics that spit out words with certain probabilities. \n",
    "\n",
    "-----\n",
    "\n",
    "Now imagine that we have a set of documents\n",
    "\n",
    "We've chosen some fixed number of K Topics to discover and want to use LDA to learn the topic representation of each document and the words associated with each document. \n",
    "\n",
    "Go through each document, and randomly assign each word in the document to one of the K Topics\n",
    "\n",
    "This random assignment already gives you both topic representations of all the documents and word distrubtions of all the topics. (But please be aware... These initial random topics won't make any sense)\n",
    "\n",
    "Now we iterate over each word in every document to improve these topics. \n",
    "\n",
    "For each word in each document and for each topic t we calcuate:\n",
    "    p(word w | topic t) = \"The porportion of assignments to topic t over all documents that come from this word w\"\n",
    "\n",
    "After repeating the previous step a large number of times, we eventually reach a roughly steady state where the assignments are acceptable. \n",
    "\n",
    "We end up with an output such as:\n",
    "    - Document assigned to Topic #4\n",
    "    - Most common words (highest probability) for Topic #4:\n",
    "        [cat, vet, bird, dogs]\n",
    "    - It is up to the user to intepret these topics\n"
   ]
  },
  {
   "cell_type": "markdown",
   "metadata": {},
   "source": [
    "\n",
    "----\n",
    "\n",
    "### Determining the right number of topics\n",
    "\n",
    "Several of the videos that I watched, all suggested that the user must specify the number of topics, GPT 4 tells me that GenSim has some built in functions that can help determine the best number of topics. \n",
    "\n",
    "1. Perplexity Score\n",
    "Perplexity is a measure of how well a probabilistic model predicts a sample. In the context of LDA, lower perplexity indicates a better fit to the data. You can calculate the perplexity for different numbers of topics and choose the one with the lowest perplexity.\n",
    "\n",
    "2. Coherence Score\n",
    "Coherence measures the semantic similarity between high-scoring words in the topics. A higher coherence score usually indicates more interpretable topics. The coherence score can be calculated using various metrics such as C_v, C_umass, C_uci, and C_npmi.\n",
    "\n",
    "3. Topic Coherence via Grid Search\n",
    "You can perform a grid search over a range of topic numbers and calculate coherence scores for each, then choose the number of topics that maximizes the coherence score.\n",
    "\n",
    "4. Elbow Method (Coherence Score)\n",
    "Similar to the elbow method in K-Means clustering, you can plot the coherence score against the number of topics and look for the point where the improvement starts to diminish.\n",
    "\n",
    "5. Human Judgment and Interpretability\n",
    "Ultimately, human judgment on the interpretability and coherence of topics can be crucial. Sometimes, the optimal number of topics is the one that makes the most sense from a business or research perspective.\n"
   ]
  },
  {
   "cell_type": "markdown",
   "metadata": {},
   "source": [
    "### References \n",
    "https://www.youtube.com/watch?v=be7Xd2Ntai8\n"
   ]
  },
  {
   "cell_type": "code",
   "execution_count": 1,
   "metadata": {},
   "outputs": [
    {
     "name": "stderr",
     "output_type": "stream",
     "text": [
      "c:\\Users\\caraw\\AppData\\Local\\Programs\\Python\\Python311\\Lib\\site-packages\\pinecone\\data\\index.py:1: TqdmWarning: IProgress not found. Please update jupyter and ipywidgets. See https://ipywidgets.readthedocs.io/en/stable/user_install.html\n",
      "  from tqdm.autonotebook import tqdm\n"
     ]
    },
    {
     "data": {
      "text/plain": [
       "True"
      ]
     },
     "execution_count": 1,
     "metadata": {},
     "output_type": "execute_result"
    }
   ],
   "source": [
    "\n",
    "\n",
    "import os\n",
    "import inspect\n",
    "import json\n",
    "import sys\n",
    "import time\n",
    "import logging\n",
    "import uuid \n",
    "import pandas as pd\n",
    "from dotenv import load_dotenv\n",
    "from datetime import datetime\n",
    "from pathlib import Path\n",
    "\n",
    "from operation_battleship_common_utilities.JobPostingDao import JobPostingDao\n",
    "from operation_battleship_common_utilities.CandidateRequirementsDao import CandidateRequirementsDao\n",
    "from operation_battleship_common_utilities.JobResponsibilitiesDao import JobResponsibilitiesDao\n",
    "from operation_battleship_common_utilities.JobSkillsDao import JobSkillsDao\n",
    "from operation_battleship_common_utilities.JobKeyWordsDao import JobKeyWordsDao\n",
    "from operation_battleship_common_utilities.JobTitleCategoryClassifier import JobTitleCategoryClassifier\n",
    "from operation_battleship_common_utilities.FailureLogger import FailureLogger\n",
    "\n",
    "from operation_battleship_common_utilities.NomicAICaller import NomicAICaller\n",
    "from operation_battleship_common_utilities.OpenAICaller import OpenAICaller\n",
    "from operation_battleship_common_utilities.PineConeDatabaseCaller import PineConeDatabaseCaller\n",
    "\n",
    "load_dotenv()"
   ]
  },
  {
   "cell_type": "code",
   "execution_count": 2,
   "metadata": {},
   "outputs": [
    {
     "name": "stderr",
     "output_type": "stream",
     "text": [
      "2024-05-16 18:07:46,881 - INFO - JobPostingDao class initialized\n"
     ]
    },
    {
     "name": "stdout",
     "output_type": "stream",
     "text": [
      "Index(['job_posting_id', 'company_id', 'posting_url', 'posting_source',\n",
      "       'posting_source_id', 'job_title', 'full_posting_description',\n",
      "       'job_description', 'is_ai', 'job_salary',\n",
      "       'job_posting_company_information', 'job_posting_date',\n",
      "       'job_insertion_date', 'job_last_collected_date', 'job_active',\n",
      "       'salary_low', 'salary_midpoint', 'salary_high', 'city', 'state',\n",
      "       'is_genai', 'job_skills', 'is_ai_justification', 'work_location_type',\n",
      "       'job_category', 'kmeansclusterid', 'dbscanclusterid', 'opticsclusterid',\n",
      "       'kmeansclustertopicname', 'dbscanclustertopicname',\n",
      "       'opticsclustertopicname'],\n",
      "      dtype='object')\n"
     ]
    }
   ],
   "source": [
    "# Get the list of jobs from the database and print the columns in the DF.\n",
    "jobPostingDao = JobPostingDao()\n",
    "allJobsDf = jobPostingDao.getAllJobs()\n",
    "columns = allJobsDf.columns\n",
    "print(columns)"
   ]
  },
  {
   "cell_type": "code",
   "execution_count": 3,
   "metadata": {},
   "outputs": [
    {
     "data": {
      "text/html": [
       "<div>\n",
       "<style scoped>\n",
       "    .dataframe tbody tr th:only-of-type {\n",
       "        vertical-align: middle;\n",
       "    }\n",
       "\n",
       "    .dataframe tbody tr th {\n",
       "        vertical-align: top;\n",
       "    }\n",
       "\n",
       "    .dataframe thead th {\n",
       "        text-align: right;\n",
       "    }\n",
       "</style>\n",
       "<table border=\"1\" class=\"dataframe\">\n",
       "  <thead>\n",
       "    <tr style=\"text-align: right;\">\n",
       "      <th></th>\n",
       "      <th>full_posting_description</th>\n",
       "    </tr>\n",
       "  </thead>\n",
       "  <tbody>\n",
       "    <tr>\n",
       "      <th>0</th>\n",
       "      <td>EquipmentShare is Hiring a Principal Product M...</td>\n",
       "    </tr>\n",
       "    <tr>\n",
       "      <th>1</th>\n",
       "      <td>If you are a Remote Associate Product Manager ...</td>\n",
       "    </tr>\n",
       "    <tr>\n",
       "      <th>2</th>\n",
       "      <td>Overview\\n\\nJob Description\\n\\nCoStar Group (N...</td>\n",
       "    </tr>\n",
       "    <tr>\n",
       "      <th>3</th>\n",
       "      <td>ClubLabs is the digital acceleration team for ...</td>\n",
       "    </tr>\n",
       "    <tr>\n",
       "      <th>4</th>\n",
       "      <td>Hi, we're Brigit! A holistic financial health ...</td>\n",
       "    </tr>\n",
       "  </tbody>\n",
       "</table>\n",
       "</div>"
      ],
      "text/plain": [
       "                            full_posting_description\n",
       "0  EquipmentShare is Hiring a Principal Product M...\n",
       "1  If you are a Remote Associate Product Manager ...\n",
       "2  Overview\\n\\nJob Description\\n\\nCoStar Group (N...\n",
       "3  ClubLabs is the digital acceleration team for ...\n",
       "4  Hi, we're Brigit! A holistic financial health ..."
      ]
     },
     "execution_count": 3,
     "metadata": {},
     "output_type": "execute_result"
    }
   ],
   "source": [
    "# We only need the column that contains the job description. \n",
    "# We will take a short peek at the top records to see a snippet of the values\n",
    "jobDescriptionDf = allJobsDf[['full_posting_description']]\n",
    "jobDescriptionDf.head()\n"
   ]
  },
  {
   "cell_type": "code",
   "execution_count": 5,
   "metadata": {},
   "outputs": [
    {
     "data": {
      "text/plain": [
       "'Are you a team player? Are you curious to learn? Are you interested in working in meaningful projects? Do you want to work with cutting-edge technology? Are you interested in being part of a team that is working to transform and do things differently? If so, LPL Financial is the place for you!\\n\\nLPL Financial (Nasdaq: LPLA) was founded on the principle that the firm should work for the advisor, and not the other way around. Today, LPL is a leader* in the markets we serve, supporting more than 18,000 financial advisors, 800 institution-based investment programs and 450 independent RIA firms nationwide. We are steadfast in our commitment to the advisor-centered model and the belief that Americans deserve access to personalized guidance from a financial advisor. At LPL, independence means that advisors have the freedom they deserve to choose the business model, services, and technology resources that allow them to run their perfect practice. And they have the freedom to manage their client relationships because they know their clients best. Simply put, we take care of our advisors, so they can take care of their clients.\\n\\nJob Overview:\\n\\nAs an innovation product manager, you will own one of our new services end-to-end, including defining the initial concept, testing, and iterating the business model, defining the feature set for launch, prioritizing the roadmap, committing to delivery timelines, and partnering across the organization to take the product to market. Once launched, you will either transition ownership to a full-time product manager (and then help us with the next new service initiative in the backlog) OR become the full-time product manager on the new service.\\n\\nResponsibilities:\\n\\n\\n * New Product Incubation: You will work with cross-functional product teams, including designers, delivery experts, and tech/engineers, to discover and solve hard customer and business problems. As the product manager your role in the team is to ensure that we design and develop a product that is desirable (solves a meaningful customer problem), viable (valuable for the firm to pursue), and feasible (can be delivered at scale).\\n * New Product Development: You will define key development milestones and ensure delivery across each stage of new product development lifecycle. You will leverage data and customer insights to make decisions on the priority of the user stories in the product backlog and manage product roadmap by setting expectations with project team members, internal partners, leadership, and customers.\\n * New Product GTM & Launch: You will work with leadership and key product stakeholders to develop product roadmap, product priorities, go-to-market plan, pricing strategy, and customer engagement strategy. You will be responsible for creating go-to-market plans in conjunction with Sales/Marketing partners and managing a cross-functional team to ensure successful launch.\\n * Customer & Market Insights: You will bring structured customer insight to the team by using a mixture of market research, primary qualitative research (talking to customers!), quantitative research, and observed data of how customers engage with the product. You are the voice of the customer for the team but not the sole voice - you will create understanding and empathy throughout the team with your customers.\\n * Delivery & Acceleration Support: You will build/coordinate/train teams to execute and deliver product through pilot, soft launch, and national launch. You will also be responsible for managing the transition of the new product to a full-time owner post-launch and may continue to collaborate with sales, marketing, product, delivery, operations, and technology to define and achieve near-term acceleration goals.\\n   \\n   \\n   \\n\\nWhat are we looking for?\\n\\nWe want strong collaborators who are passionate about identifying and solving customer problems. We are looking for people who thrive in an innovative environment, who are motivated self-starters, and who can think in creatively to deliver valuable services to our customers. We believe good product managers are leaders among equals and the best product mangers empower the whole team to understand the problem space and contribute to the solution. We want people who know how to inspire and work effectively with others in order to develop solutions that solve meaningful customer problems, are lovable and usable by customers, and are technically feasible.\\n\\nRequirements:\\n\\n\\n * 5+ years total experience or 1+ years post-MBA experience\\n * 1 plus year demonstrated experience of end-to-end product discovery and delivery, including launching new products into market.\\n * Informed opinions on product methodologies (e.g., Jobs-to-be-done, Customer Personas, Business Model Canvas, LOFAs, Prioritization frameworks)\\n * 3+ years of Product Management or equivalent experience\\n   \\n   \\n   \\n\\nCore Competencies:\\n\\n\\n * Comfortable navigating ambiguity while adding structure and processes to evolving or unclear problem spaces.\\n * A keen understanding on how to deliver measurable value to customers in a fast-paced environment.\\n * Ability to collaborate across cross-functional teams including, delivery, design, connected services, and senior executives.\\n * Solid understanding of the constraints within which financial institutions operate – regulation, risk and controls, privacy, and business cases.\\n * Proven ability to tackle complex problems and present a logical and structured recommendation based on data.\\n * Proficient use of Product Management tools (JIRA, Confluence) and business tools (PowerPoint, Excel, Word)\\n * Passion for and curiosity about new product development and product innovation. Experience in and complete fluency in the topic is great but not mandatory\\u202fas long as\\u202fthere’s\\u202fthe desire to\\u202flearn.\\n * Be a strategic, lateral-thinking problem solver with human-centered design experience, comfortable with quantitative and qualitative analyses, comfortable working in complex environments.\\n * Ability to influence your teammates, as well as colleagues, stakeholders, and key executives, through your use of data, insights, and storytelling.\\n * Experience identifying and evaluating potential opportunities, including articulating a clear path forward, building confidence in the value of our ideas, and prioritizing the ones with highest potential.\\n * Experience translating learnings from discovery and concept validation into a tangible roadmap: mapping organizational and technological implications, enabler requirements, dependencies and modeling high level impact and value case.\\n * Experience of merging human-centered design with product strategy and corporate priorities\\n * Understanding of the advice industry, including customer trends, key players, differentiating capabilities, and profit drivers is a plus.\\n   \\n   \\n   \\n\\nPay Range:\\n\\n$105,680-$158,520/year\\n\\nActual base salary varies based on factors, including but not limited to, relevant skill, prior experience, education, base salary of internal peers, demonstrated performance, and geographic location. Additionally, LPL Total Rewards package is highly competitive, designed to support your success at work, at home, and at play – such as 401K matching, health benefits, employee stock options, paid time off, volunteer time off, and more. Your recruiter will be happy to discuss all that LPL has to offer!\\n\\nWhy LPL?\\n\\nAt LPL, we believe that objective financial guidance is a fundamental need for everyone. As the nation’s leading independent broker-dealer, we offer an integrated platform of proprietary technology, brokerage, and investment advisor services. We provide you with a work environment that encourages your creativity and growth, a leadership team that is supportive and responsive, and the opportunity to create a career that has no limits, only amazing potential.\\n\\nWe are one team on one mission. We take care of our advisors, so they can take care of their clients.\\n\\nBecause our company is not too big and not too small, you can seize the opportunity to make a real impact. We are committed to supporting workplace equality, and we embrace the different perspectives and backgrounds of our employees. We also care for our communities, and we encourage our employees to do the same. This creates an environment in which you can do your best work.\\n\\nWant to hear from our employees on what it’s like to work at LPL? Watch this!\\n\\nWe take social responsibility seriously. Learn more here\\n\\nWant to see info on our benefits? Learn more here\\n\\nJoin the LPL team and help us make a difference by turning life’s aspirations into financial realities. Please log in or create an account to apply to this position. Principals only. EOE.\\n\\nInformation on Interviews:\\n\\nLPL will only communicate with a job applicant directly from an @lplfinancial.com email address and will never conduct an interview online or in a chatroom forum. During an interview, LPL will not request any form of payment from the applicant, or information regarding an applicant’s bank or credit card. Should you have any questions regarding the application process, please contact LPL’s Human Resources Solutions Center at (800) 877-7210.'"
      ]
     },
     "execution_count": 5,
     "metadata": {},
     "output_type": "execute_result"
    }
   ],
   "source": [
    "# We can see the whole description for one of the rows \n",
    "# We can also see the number of rows in the dataframe\n",
    "jobDescriptionDf['full_posting_description'][8]\n",
    "#len(jobDescriptionDf)"
   ]
  },
  {
   "cell_type": "code",
   "execution_count": 6,
   "metadata": {},
   "outputs": [],
   "source": [
    "# LDA for this notebook will be done using the SkLearn Library. \n",
    "# We will explore GenSim in another notebook\n",
    "from sklearn.feature_extraction.text import CountVectorizer\n"
   ]
  },
  {
   "cell_type": "code",
   "execution_count": 7,
   "metadata": {},
   "outputs": [],
   "source": [
    "# Max DF allows us to ignore certain terms that have really high document frequency. If Software or Product are found in 95% of the jobs, then that term would be excluded.  When max_df=0.9 that means we would discard words that appear in 90% of the documents. \n",
    "# Min DF allows us to set the minimum doc frequcny. If set to an integer value of 5, this would mean that a word would need to show up in at least 5 documents in order to be counted. \n",
    "# For both of these input parameters, you can pass in a ratio of less than 1 or even an integer that specifies a raw number of documents. \n",
    "\n",
    "cv = CountVectorizer(max_df=0.95, min_df=5, stop_words='english')"
   ]
  },
  {
   "cell_type": "code",
   "execution_count": 8,
   "metadata": {},
   "outputs": [],
   "source": [
    "dtm = cv.fit_transform(jobDescriptionDf['full_posting_description'])"
   ]
  },
  {
   "cell_type": "code",
   "execution_count": 9,
   "metadata": {},
   "outputs": [
    {
     "data": {
      "text/plain": [
       "<69413x31542 sparse matrix of type '<class 'numpy.int64'>'\n",
       "\twith 21293198 stored elements in Compressed Sparse Row format>"
      ]
     },
     "execution_count": 9,
     "metadata": {},
     "output_type": "execute_result"
    }
   ],
   "source": [
    "dtm"
   ]
  },
  {
   "cell_type": "code",
   "execution_count": 10,
   "metadata": {},
   "outputs": [],
   "source": [
    "# I don't know the correct number of topics, choosing a value for now and we will look for scientific approaches to this later. \n",
    "from sklearn.decomposition import LatentDirichletAllocation\n",
    "\n",
    "totalTopics = 25\n",
    "randomSeed = 42\n",
    "\n",
    "lda = LatentDirichletAllocation(n_components=totalTopics, random_state=randomSeed)"
   ]
  },
  {
   "cell_type": "code",
   "execution_count": 11,
   "metadata": {},
   "outputs": [
    {
     "data": {
      "text/html": [
       "<style>#sk-container-id-1 {\n",
       "  /* Definition of color scheme common for light and dark mode */\n",
       "  --sklearn-color-text: black;\n",
       "  --sklearn-color-line: gray;\n",
       "  /* Definition of color scheme for unfitted estimators */\n",
       "  --sklearn-color-unfitted-level-0: #fff5e6;\n",
       "  --sklearn-color-unfitted-level-1: #f6e4d2;\n",
       "  --sklearn-color-unfitted-level-2: #ffe0b3;\n",
       "  --sklearn-color-unfitted-level-3: chocolate;\n",
       "  /* Definition of color scheme for fitted estimators */\n",
       "  --sklearn-color-fitted-level-0: #f0f8ff;\n",
       "  --sklearn-color-fitted-level-1: #d4ebff;\n",
       "  --sklearn-color-fitted-level-2: #b3dbfd;\n",
       "  --sklearn-color-fitted-level-3: cornflowerblue;\n",
       "\n",
       "  /* Specific color for light theme */\n",
       "  --sklearn-color-text-on-default-background: var(--sg-text-color, var(--theme-code-foreground, var(--jp-content-font-color1, black)));\n",
       "  --sklearn-color-background: var(--sg-background-color, var(--theme-background, var(--jp-layout-color0, white)));\n",
       "  --sklearn-color-border-box: var(--sg-text-color, var(--theme-code-foreground, var(--jp-content-font-color1, black)));\n",
       "  --sklearn-color-icon: #696969;\n",
       "\n",
       "  @media (prefers-color-scheme: dark) {\n",
       "    /* Redefinition of color scheme for dark theme */\n",
       "    --sklearn-color-text-on-default-background: var(--sg-text-color, var(--theme-code-foreground, var(--jp-content-font-color1, white)));\n",
       "    --sklearn-color-background: var(--sg-background-color, var(--theme-background, var(--jp-layout-color0, #111)));\n",
       "    --sklearn-color-border-box: var(--sg-text-color, var(--theme-code-foreground, var(--jp-content-font-color1, white)));\n",
       "    --sklearn-color-icon: #878787;\n",
       "  }\n",
       "}\n",
       "\n",
       "#sk-container-id-1 {\n",
       "  color: var(--sklearn-color-text);\n",
       "}\n",
       "\n",
       "#sk-container-id-1 pre {\n",
       "  padding: 0;\n",
       "}\n",
       "\n",
       "#sk-container-id-1 input.sk-hidden--visually {\n",
       "  border: 0;\n",
       "  clip: rect(1px 1px 1px 1px);\n",
       "  clip: rect(1px, 1px, 1px, 1px);\n",
       "  height: 1px;\n",
       "  margin: -1px;\n",
       "  overflow: hidden;\n",
       "  padding: 0;\n",
       "  position: absolute;\n",
       "  width: 1px;\n",
       "}\n",
       "\n",
       "#sk-container-id-1 div.sk-dashed-wrapped {\n",
       "  border: 1px dashed var(--sklearn-color-line);\n",
       "  margin: 0 0.4em 0.5em 0.4em;\n",
       "  box-sizing: border-box;\n",
       "  padding-bottom: 0.4em;\n",
       "  background-color: var(--sklearn-color-background);\n",
       "}\n",
       "\n",
       "#sk-container-id-1 div.sk-container {\n",
       "  /* jupyter's `normalize.less` sets `[hidden] { display: none; }`\n",
       "     but bootstrap.min.css set `[hidden] { display: none !important; }`\n",
       "     so we also need the `!important` here to be able to override the\n",
       "     default hidden behavior on the sphinx rendered scikit-learn.org.\n",
       "     See: https://github.com/scikit-learn/scikit-learn/issues/21755 */\n",
       "  display: inline-block !important;\n",
       "  position: relative;\n",
       "}\n",
       "\n",
       "#sk-container-id-1 div.sk-text-repr-fallback {\n",
       "  display: none;\n",
       "}\n",
       "\n",
       "div.sk-parallel-item,\n",
       "div.sk-serial,\n",
       "div.sk-item {\n",
       "  /* draw centered vertical line to link estimators */\n",
       "  background-image: linear-gradient(var(--sklearn-color-text-on-default-background), var(--sklearn-color-text-on-default-background));\n",
       "  background-size: 2px 100%;\n",
       "  background-repeat: no-repeat;\n",
       "  background-position: center center;\n",
       "}\n",
       "\n",
       "/* Parallel-specific style estimator block */\n",
       "\n",
       "#sk-container-id-1 div.sk-parallel-item::after {\n",
       "  content: \"\";\n",
       "  width: 100%;\n",
       "  border-bottom: 2px solid var(--sklearn-color-text-on-default-background);\n",
       "  flex-grow: 1;\n",
       "}\n",
       "\n",
       "#sk-container-id-1 div.sk-parallel {\n",
       "  display: flex;\n",
       "  align-items: stretch;\n",
       "  justify-content: center;\n",
       "  background-color: var(--sklearn-color-background);\n",
       "  position: relative;\n",
       "}\n",
       "\n",
       "#sk-container-id-1 div.sk-parallel-item {\n",
       "  display: flex;\n",
       "  flex-direction: column;\n",
       "}\n",
       "\n",
       "#sk-container-id-1 div.sk-parallel-item:first-child::after {\n",
       "  align-self: flex-end;\n",
       "  width: 50%;\n",
       "}\n",
       "\n",
       "#sk-container-id-1 div.sk-parallel-item:last-child::after {\n",
       "  align-self: flex-start;\n",
       "  width: 50%;\n",
       "}\n",
       "\n",
       "#sk-container-id-1 div.sk-parallel-item:only-child::after {\n",
       "  width: 0;\n",
       "}\n",
       "\n",
       "/* Serial-specific style estimator block */\n",
       "\n",
       "#sk-container-id-1 div.sk-serial {\n",
       "  display: flex;\n",
       "  flex-direction: column;\n",
       "  align-items: center;\n",
       "  background-color: var(--sklearn-color-background);\n",
       "  padding-right: 1em;\n",
       "  padding-left: 1em;\n",
       "}\n",
       "\n",
       "\n",
       "/* Toggleable style: style used for estimator/Pipeline/ColumnTransformer box that is\n",
       "clickable and can be expanded/collapsed.\n",
       "- Pipeline and ColumnTransformer use this feature and define the default style\n",
       "- Estimators will overwrite some part of the style using the `sk-estimator` class\n",
       "*/\n",
       "\n",
       "/* Pipeline and ColumnTransformer style (default) */\n",
       "\n",
       "#sk-container-id-1 div.sk-toggleable {\n",
       "  /* Default theme specific background. It is overwritten whether we have a\n",
       "  specific estimator or a Pipeline/ColumnTransformer */\n",
       "  background-color: var(--sklearn-color-background);\n",
       "}\n",
       "\n",
       "/* Toggleable label */\n",
       "#sk-container-id-1 label.sk-toggleable__label {\n",
       "  cursor: pointer;\n",
       "  display: block;\n",
       "  width: 100%;\n",
       "  margin-bottom: 0;\n",
       "  padding: 0.5em;\n",
       "  box-sizing: border-box;\n",
       "  text-align: center;\n",
       "}\n",
       "\n",
       "#sk-container-id-1 label.sk-toggleable__label-arrow:before {\n",
       "  /* Arrow on the left of the label */\n",
       "  content: \"▸\";\n",
       "  float: left;\n",
       "  margin-right: 0.25em;\n",
       "  color: var(--sklearn-color-icon);\n",
       "}\n",
       "\n",
       "#sk-container-id-1 label.sk-toggleable__label-arrow:hover:before {\n",
       "  color: var(--sklearn-color-text);\n",
       "}\n",
       "\n",
       "/* Toggleable content - dropdown */\n",
       "\n",
       "#sk-container-id-1 div.sk-toggleable__content {\n",
       "  max-height: 0;\n",
       "  max-width: 0;\n",
       "  overflow: hidden;\n",
       "  text-align: left;\n",
       "  /* unfitted */\n",
       "  background-color: var(--sklearn-color-unfitted-level-0);\n",
       "}\n",
       "\n",
       "#sk-container-id-1 div.sk-toggleable__content.fitted {\n",
       "  /* fitted */\n",
       "  background-color: var(--sklearn-color-fitted-level-0);\n",
       "}\n",
       "\n",
       "#sk-container-id-1 div.sk-toggleable__content pre {\n",
       "  margin: 0.2em;\n",
       "  border-radius: 0.25em;\n",
       "  color: var(--sklearn-color-text);\n",
       "  /* unfitted */\n",
       "  background-color: var(--sklearn-color-unfitted-level-0);\n",
       "}\n",
       "\n",
       "#sk-container-id-1 div.sk-toggleable__content.fitted pre {\n",
       "  /* unfitted */\n",
       "  background-color: var(--sklearn-color-fitted-level-0);\n",
       "}\n",
       "\n",
       "#sk-container-id-1 input.sk-toggleable__control:checked~div.sk-toggleable__content {\n",
       "  /* Expand drop-down */\n",
       "  max-height: 200px;\n",
       "  max-width: 100%;\n",
       "  overflow: auto;\n",
       "}\n",
       "\n",
       "#sk-container-id-1 input.sk-toggleable__control:checked~label.sk-toggleable__label-arrow:before {\n",
       "  content: \"▾\";\n",
       "}\n",
       "\n",
       "/* Pipeline/ColumnTransformer-specific style */\n",
       "\n",
       "#sk-container-id-1 div.sk-label input.sk-toggleable__control:checked~label.sk-toggleable__label {\n",
       "  color: var(--sklearn-color-text);\n",
       "  background-color: var(--sklearn-color-unfitted-level-2);\n",
       "}\n",
       "\n",
       "#sk-container-id-1 div.sk-label.fitted input.sk-toggleable__control:checked~label.sk-toggleable__label {\n",
       "  background-color: var(--sklearn-color-fitted-level-2);\n",
       "}\n",
       "\n",
       "/* Estimator-specific style */\n",
       "\n",
       "/* Colorize estimator box */\n",
       "#sk-container-id-1 div.sk-estimator input.sk-toggleable__control:checked~label.sk-toggleable__label {\n",
       "  /* unfitted */\n",
       "  background-color: var(--sklearn-color-unfitted-level-2);\n",
       "}\n",
       "\n",
       "#sk-container-id-1 div.sk-estimator.fitted input.sk-toggleable__control:checked~label.sk-toggleable__label {\n",
       "  /* fitted */\n",
       "  background-color: var(--sklearn-color-fitted-level-2);\n",
       "}\n",
       "\n",
       "#sk-container-id-1 div.sk-label label.sk-toggleable__label,\n",
       "#sk-container-id-1 div.sk-label label {\n",
       "  /* The background is the default theme color */\n",
       "  color: var(--sklearn-color-text-on-default-background);\n",
       "}\n",
       "\n",
       "/* On hover, darken the color of the background */\n",
       "#sk-container-id-1 div.sk-label:hover label.sk-toggleable__label {\n",
       "  color: var(--sklearn-color-text);\n",
       "  background-color: var(--sklearn-color-unfitted-level-2);\n",
       "}\n",
       "\n",
       "/* Label box, darken color on hover, fitted */\n",
       "#sk-container-id-1 div.sk-label.fitted:hover label.sk-toggleable__label.fitted {\n",
       "  color: var(--sklearn-color-text);\n",
       "  background-color: var(--sklearn-color-fitted-level-2);\n",
       "}\n",
       "\n",
       "/* Estimator label */\n",
       "\n",
       "#sk-container-id-1 div.sk-label label {\n",
       "  font-family: monospace;\n",
       "  font-weight: bold;\n",
       "  display: inline-block;\n",
       "  line-height: 1.2em;\n",
       "}\n",
       "\n",
       "#sk-container-id-1 div.sk-label-container {\n",
       "  text-align: center;\n",
       "}\n",
       "\n",
       "/* Estimator-specific */\n",
       "#sk-container-id-1 div.sk-estimator {\n",
       "  font-family: monospace;\n",
       "  border: 1px dotted var(--sklearn-color-border-box);\n",
       "  border-radius: 0.25em;\n",
       "  box-sizing: border-box;\n",
       "  margin-bottom: 0.5em;\n",
       "  /* unfitted */\n",
       "  background-color: var(--sklearn-color-unfitted-level-0);\n",
       "}\n",
       "\n",
       "#sk-container-id-1 div.sk-estimator.fitted {\n",
       "  /* fitted */\n",
       "  background-color: var(--sklearn-color-fitted-level-0);\n",
       "}\n",
       "\n",
       "/* on hover */\n",
       "#sk-container-id-1 div.sk-estimator:hover {\n",
       "  /* unfitted */\n",
       "  background-color: var(--sklearn-color-unfitted-level-2);\n",
       "}\n",
       "\n",
       "#sk-container-id-1 div.sk-estimator.fitted:hover {\n",
       "  /* fitted */\n",
       "  background-color: var(--sklearn-color-fitted-level-2);\n",
       "}\n",
       "\n",
       "/* Specification for estimator info (e.g. \"i\" and \"?\") */\n",
       "\n",
       "/* Common style for \"i\" and \"?\" */\n",
       "\n",
       ".sk-estimator-doc-link,\n",
       "a:link.sk-estimator-doc-link,\n",
       "a:visited.sk-estimator-doc-link {\n",
       "  float: right;\n",
       "  font-size: smaller;\n",
       "  line-height: 1em;\n",
       "  font-family: monospace;\n",
       "  background-color: var(--sklearn-color-background);\n",
       "  border-radius: 1em;\n",
       "  height: 1em;\n",
       "  width: 1em;\n",
       "  text-decoration: none !important;\n",
       "  margin-left: 1ex;\n",
       "  /* unfitted */\n",
       "  border: var(--sklearn-color-unfitted-level-1) 1pt solid;\n",
       "  color: var(--sklearn-color-unfitted-level-1);\n",
       "}\n",
       "\n",
       ".sk-estimator-doc-link.fitted,\n",
       "a:link.sk-estimator-doc-link.fitted,\n",
       "a:visited.sk-estimator-doc-link.fitted {\n",
       "  /* fitted */\n",
       "  border: var(--sklearn-color-fitted-level-1) 1pt solid;\n",
       "  color: var(--sklearn-color-fitted-level-1);\n",
       "}\n",
       "\n",
       "/* On hover */\n",
       "div.sk-estimator:hover .sk-estimator-doc-link:hover,\n",
       ".sk-estimator-doc-link:hover,\n",
       "div.sk-label-container:hover .sk-estimator-doc-link:hover,\n",
       ".sk-estimator-doc-link:hover {\n",
       "  /* unfitted */\n",
       "  background-color: var(--sklearn-color-unfitted-level-3);\n",
       "  color: var(--sklearn-color-background);\n",
       "  text-decoration: none;\n",
       "}\n",
       "\n",
       "div.sk-estimator.fitted:hover .sk-estimator-doc-link.fitted:hover,\n",
       ".sk-estimator-doc-link.fitted:hover,\n",
       "div.sk-label-container:hover .sk-estimator-doc-link.fitted:hover,\n",
       ".sk-estimator-doc-link.fitted:hover {\n",
       "  /* fitted */\n",
       "  background-color: var(--sklearn-color-fitted-level-3);\n",
       "  color: var(--sklearn-color-background);\n",
       "  text-decoration: none;\n",
       "}\n",
       "\n",
       "/* Span, style for the box shown on hovering the info icon */\n",
       ".sk-estimator-doc-link span {\n",
       "  display: none;\n",
       "  z-index: 9999;\n",
       "  position: relative;\n",
       "  font-weight: normal;\n",
       "  right: .2ex;\n",
       "  padding: .5ex;\n",
       "  margin: .5ex;\n",
       "  width: min-content;\n",
       "  min-width: 20ex;\n",
       "  max-width: 50ex;\n",
       "  color: var(--sklearn-color-text);\n",
       "  box-shadow: 2pt 2pt 4pt #999;\n",
       "  /* unfitted */\n",
       "  background: var(--sklearn-color-unfitted-level-0);\n",
       "  border: .5pt solid var(--sklearn-color-unfitted-level-3);\n",
       "}\n",
       "\n",
       ".sk-estimator-doc-link.fitted span {\n",
       "  /* fitted */\n",
       "  background: var(--sklearn-color-fitted-level-0);\n",
       "  border: var(--sklearn-color-fitted-level-3);\n",
       "}\n",
       "\n",
       ".sk-estimator-doc-link:hover span {\n",
       "  display: block;\n",
       "}\n",
       "\n",
       "/* \"?\"-specific style due to the `<a>` HTML tag */\n",
       "\n",
       "#sk-container-id-1 a.estimator_doc_link {\n",
       "  float: right;\n",
       "  font-size: 1rem;\n",
       "  line-height: 1em;\n",
       "  font-family: monospace;\n",
       "  background-color: var(--sklearn-color-background);\n",
       "  border-radius: 1rem;\n",
       "  height: 1rem;\n",
       "  width: 1rem;\n",
       "  text-decoration: none;\n",
       "  /* unfitted */\n",
       "  color: var(--sklearn-color-unfitted-level-1);\n",
       "  border: var(--sklearn-color-unfitted-level-1) 1pt solid;\n",
       "}\n",
       "\n",
       "#sk-container-id-1 a.estimator_doc_link.fitted {\n",
       "  /* fitted */\n",
       "  border: var(--sklearn-color-fitted-level-1) 1pt solid;\n",
       "  color: var(--sklearn-color-fitted-level-1);\n",
       "}\n",
       "\n",
       "/* On hover */\n",
       "#sk-container-id-1 a.estimator_doc_link:hover {\n",
       "  /* unfitted */\n",
       "  background-color: var(--sklearn-color-unfitted-level-3);\n",
       "  color: var(--sklearn-color-background);\n",
       "  text-decoration: none;\n",
       "}\n",
       "\n",
       "#sk-container-id-1 a.estimator_doc_link.fitted:hover {\n",
       "  /* fitted */\n",
       "  background-color: var(--sklearn-color-fitted-level-3);\n",
       "}\n",
       "</style><div id=\"sk-container-id-1\" class=\"sk-top-container\"><div class=\"sk-text-repr-fallback\"><pre>LatentDirichletAllocation(n_components=25, random_state=42)</pre><b>In a Jupyter environment, please rerun this cell to show the HTML representation or trust the notebook. <br />On GitHub, the HTML representation is unable to render, please try loading this page with nbviewer.org.</b></div><div class=\"sk-container\" hidden><div class=\"sk-item\"><div class=\"sk-estimator fitted sk-toggleable\"><input class=\"sk-toggleable__control sk-hidden--visually\" id=\"sk-estimator-id-1\" type=\"checkbox\" checked><label for=\"sk-estimator-id-1\" class=\"sk-toggleable__label fitted sk-toggleable__label-arrow fitted\">&nbsp;&nbsp;LatentDirichletAllocation<a class=\"sk-estimator-doc-link fitted\" rel=\"noreferrer\" target=\"_blank\" href=\"https://scikit-learn.org/1.4/modules/generated/sklearn.decomposition.LatentDirichletAllocation.html\">?<span>Documentation for LatentDirichletAllocation</span></a><span class=\"sk-estimator-doc-link fitted\">i<span>Fitted</span></span></label><div class=\"sk-toggleable__content fitted\"><pre>LatentDirichletAllocation(n_components=25, random_state=42)</pre></div> </div></div></div></div>"
      ],
      "text/plain": [
       "LatentDirichletAllocation(n_components=25, random_state=42)"
      ]
     },
     "execution_count": 11,
     "metadata": {},
     "output_type": "execute_result"
    }
   ],
   "source": [
    "lda.fit(dtm)"
   ]
  },
  {
   "cell_type": "code",
   "execution_count": 23,
   "metadata": {},
   "outputs": [
    {
     "name": "stdout",
     "output_type": "stream",
     "text": [
      "31542\n",
      "<class 'numpy.ndarray'>\n",
      "cao\n"
     ]
    }
   ],
   "source": [
    "# Explore the vocabulary of the words\n",
    "# How many words are in the corpus? \n",
    "# What is the object type of the get feature names?\n",
    "\n",
    "print( len(cv.get_feature_names_out()) )\n",
    "print (type(cv.get_feature_names_out()) )\n",
    "print (cv.get_feature_names_out()[5655])\n",
    "\n"
   ]
  },
  {
   "cell_type": "code",
   "execution_count": 22,
   "metadata": {},
   "outputs": [],
   "source": [
    "# Get the feature names\n",
    "feature_names = cv.get_feature_names_out()\n",
    "\n",
    "# Write the feature names to a file, each on a new line\n",
    "with open('features.txt', 'w', encoding='utf-8') as f:\n",
    "    for feature in feature_names:\n",
    "        f.write(feature + '\\n')"
   ]
  },
  {
   "cell_type": "code",
   "execution_count": 26,
   "metadata": {},
   "outputs": [
    {
     "name": "stdout",
     "output_type": "stream",
     "text": [
      "25\n",
      "<class 'numpy.ndarray'>\n",
      "(25, 31542)\n"
     ]
    }
   ],
   "source": [
    "# Grab the topics\n",
    "print (len(lda.components_))\n",
    "print (type(lda.components_))\n",
    "print(lda.components_.shape)\n"
   ]
  },
  {
   "cell_type": "code",
   "execution_count": 28,
   "metadata": {},
   "outputs": [
    {
     "data": {
      "text/plain": [
       "array([11529, 19517, 10065, ..., 17808,  5411, 22602], dtype=int64)"
      ]
     },
     "execution_count": 28,
     "metadata": {},
     "output_type": "execute_result"
    }
   ],
   "source": [
    "# Each row of lda.components represents a topic. Remember, there are K Topics (We set K to 25)\n",
    "# Arg sort will give us the ranked order for each index value of the high probability words. \n",
    "# array([10, 200, 1]) would show:\n",
    "# arraye([2, 0 , 1]) Array index 2 has the lowest value, index 0 has the second lowest value and index 1 has the this lowest value. \n",
    "singleTopic = lda.components_[0]\n",
    "singleTopic.argsort()"
   ]
  },
  {
   "cell_type": "code",
   "execution_count": 30,
   "metadata": {},
   "outputs": [
    {
     "data": {
      "text/plain": [
       "array([ 2592, 29873, 28136, 31103,  9164, 28124, 24273, 17808,  5411,\n",
       "       22602], dtype=int64)"
      ]
     },
     "execution_count": 30,
     "metadata": {},
     "output_type": "execute_result"
    }
   ],
   "source": [
    "# We can get the ten highest probability words for this topic:\n",
    "# Reminder: Arg Sort --> Index Positions sorted from Least -> Greatest\n",
    "# Starting at index postiion -10, go all the way to the end.\n",
    "singleTopic.argsort()[-10:]\n",
    "\n",
    "\n"
   ]
  },
  {
   "cell_type": "code",
   "execution_count": 32,
   "metadata": {},
   "outputs": [
    {
     "name": "stdout",
     "output_type": "stream",
     "text": [
      "customer\n",
      "manager\n",
      "ensure\n",
      "working\n",
      "delivery\n",
      "needs\n",
      "technology\n",
      "years\n",
      "products\n",
      "functional\n",
      "solutions\n",
      "technical\n",
      "stakeholders\n",
      "skills\n",
      "ability\n",
      "agile\n",
      "user\n",
      "teams\n",
      "work\n",
      "development\n",
      "team\n",
      "requirements\n",
      "management\n",
      "business\n",
      "product\n"
     ]
    }
   ],
   "source": [
    "# Create an array of the words and then print the words\n",
    "topWordsForTopic = singleTopic.argsort()[-25:]\n",
    "\n",
    "for index in topWordsForTopic:\n",
    "    print(cv.get_feature_names_out()[index])"
   ]
  },
  {
   "cell_type": "code",
   "execution_count": 35,
   "metadata": {},
   "outputs": [
    {
     "name": "stdout",
     "output_type": "stream",
     "text": [
      "The Top 15 words for topic #0]\n",
      "['solutions', 'technical', 'stakeholders', 'skills', 'ability', 'agile', 'user', 'teams', 'work', 'development', 'team', 'requirements', 'management', 'business', 'product']\n",
      "\n",
      "\n",
      "\n",
      "\n",
      "The Top 15 words for topic #1]\n",
      "['skills', 'job', 'sales', 'com', 'team', 'roles', 'company', 'product', 'benefits', 'new', 'analytics', 'business', 'marketing', 'salesforce', 'data']\n",
      "\n",
      "\n",
      "\n",
      "\n",
      "The Top 15 words for topic #2]\n",
      "['new', 'cgs', 'work', 'data', 'large', 'team', 'capital', 'time', 'model', 'models', 'learning', 'training', 'applied', 'ai', 'research']\n",
      "\n",
      "\n",
      "\n",
      "\n",
      "The Top 15 words for topic #3]\n",
      "['inclusive', 'business', 'including', 'customer', 'management', 'customers', 'products', 'support', 'pearson', 'education', 'skills', 'learning', 'team', 'work', 'product']\n",
      "\n",
      "\n",
      "\n",
      "\n",
      "The Top 15 words for topic #4]\n",
      "['years', 'work', 'team', 'machine', 'technologies', 'solutions', 'ml', 'science', 'development', 'learning', 'technical', 'engineering', 'software', 'ai', 'data']\n",
      "\n",
      "\n",
      "\n",
      "\n",
      "The Top 15 words for topic #5]\n",
      "['year', 'com', 'work', 'crossover', 'products', 'usd', 'check', 'new', 'management', 'pay', 'ai', 'microsoft', 'role', 'customer', 'product']\n",
      "\n",
      "\n",
      "\n",
      "\n",
      "The Top 15 words for topic #6]\n",
      "['equal', 'services', 'status', 'industry', 'sap', 'accommodation', 'clients', 'information', 'new', 'applicants', 'work', 'employees', 'accenture', 'business', 'employment']\n",
      "\n",
      "\n",
      "\n",
      "\n",
      "The Top 15 words for topic #7]\n",
      "['status', 'products', 'technology', 'work', 'people', 'help', 'world', 'build', 'teams', 'business', 'team', 'data', 'ey', 'meta', 'product']\n",
      "\n",
      "\n",
      "\n",
      "\n",
      "The Top 15 words for topic #8]\n",
      "['business', 'develop', 'program', 'solutions', 'hardware', 'teams', 'new', 'work', 'team', 'management', 'energy', 'technical', 'development', 'engineering', 'product']\n",
      "\n",
      "\n",
      "\n",
      "\n",
      "The Top 15 words for topic #9]\n",
      "['role', 'new', 'financial', 'technical', 'products', 'customer', 'teams', 'status', 'll', 'management', 'data', 'team', 'technology', 'business', 'product']\n",
      "\n",
      "\n",
      "\n",
      "\n",
      "The Top 15 words for topic #10]\n",
      "['role', 'position', 'products', 'market', 'customer', 'job', 'range', 'team', 'benefits', 'compensation', 'business', 'amazon', 'customers', 'work', 'product']\n",
      "\n",
      "\n",
      "\n",
      "\n",
      "The Top 15 words for topic #11]\n",
      "['machine', 'employment', 'applicable', 'learning', 'criminal', 'engineering', 'status', 'new', 'work', 'information', 'position', 'years', 'ai', 'time', 'capital']\n",
      "\n",
      "\n",
      "\n",
      "\n",
      "The Top 15 words for topic #12]\n",
      "['new', 'company', 'drive', 'strong', 'growth', 'data', 'strategy', 'products', 'work', 'teams', 'customer', 'market', 'team', 'marketing', 'product']\n",
      "\n",
      "\n",
      "\n",
      "\n",
      "The Top 15 words for topic #13]\n",
      "['required', 'information', 'client', 'team', 'process', 'analysis', 'program', 'projects', 'requirements', 'skills', 'support', 'work', 'management', 'business', 'project']\n",
      "\n",
      "\n",
      "\n",
      "\n",
      "The Top 15 words for topic #14]\n",
      "['projects', 'years', 'engineering', 'role', 'easy', '000', 'team', 'jobot', 'construction', 'work', 'manager', 'management', 'job', 'project', 'apply']\n",
      "\n",
      "\n",
      "\n",
      "\n",
      "The Top 15 words for topic #15]\n",
      "['including', 'market', 'success', 'account', 'growth', 'partner', 'services', 'solutions', 'service', 'customers', 'clients', 'client', 'business', 'customer', 'sales']\n",
      "\n",
      "\n",
      "\n",
      "\n",
      "The Top 15 words for topic #16]\n",
      "['outcomes', 'colleagues', 'ability', 'including', 'development', 'information', 'patients', 'patient', 'pfizer', 'data', 'clinical', 'care', 'medical', 'healthcare', 'health']\n",
      "\n",
      "\n",
      "\n",
      "\n",
      "The Top 15 words for topic #17]\n",
      "['trimble', 'status', 'company', 'ability', 'customer', 'safety', 'management', 'transportation', 'market', 'skills', 'team', 'business', 'product', 'security', 'sales']\n",
      "\n",
      "\n",
      "\n",
      "\n",
      "The Top 15 words for topic #18]\n",
      "['people', 'job', 'paid', 'compensation', 'including', 'time', 'based', '000', 'role', 'pay', 'data', 'benefits', 'team', 'product', 'work']\n",
      "\n",
      "\n",
      "\n",
      "\n",
      "The Top 15 words for topic #19]\n",
      "['year', 'opportunity', 'required', 'measurement', 'genai', 'assessment', 'product', 'bcg', 'firm', 'benefits', 'risk', 'time', 'kpmg', 'work', 'ai']\n",
      "\n",
      "\n",
      "\n",
      "\n",
      "The Top 15 words for topic #20]\n",
      "['engineering', 'status', 'pwc', 'information', 'management', 'work', 'technical', 'analytics', 'solutions', 'azure', 'business', 'team', 'microsoft', 'cloud', 'data']\n",
      "\n",
      "\n",
      "\n",
      "\n",
      "The Top 15 words for topic #21]\n",
      "['operations', 'strategic', 'status', 'support', 'compliance', 'development', 'team', 'ability', 'leadership', 'including', 'skills', 'financial', 'risk', 'business', 'management']\n",
      "\n",
      "\n",
      "\n",
      "\n",
      "The Top 15 words for topic #22]\n",
      "['disability', 'salary', 'leave', 'work', 'employee', 'status', 'insurance', 'range', 'product', 'time', 'health', 'employees', 'company', 'paid', 'benefits']\n",
      "\n",
      "\n",
      "\n",
      "\n",
      "The Top 15 words for topic #23]\n",
      "['marketing', 'position', 'job', 'management', 'team', 'products', 'skills', 'required', 'company', 'ability', 'manager', 'customer', 'work', 'product', 'sales']\n",
      "\n",
      "\n",
      "\n",
      "\n",
      "The Top 15 words for topic #24]\n",
      "['time', 'working', 'management', 'career', 'insurance', 'skills', 'best', 'role', 'company', 'll', 'product', 'data', 'team', 'business', 'work']\n",
      "\n",
      "\n",
      "\n",
      "\n"
     ]
    }
   ],
   "source": [
    "# Grab the highest probability words per topic\n",
    "\n",
    "for i,topic in enumerate(lda.components_):\n",
    "    print(f\"The Top 15 words for topic #{i}]\")\n",
    "    print([cv.get_feature_names_out()[index] for index in topic.argsort()[-15:]])\n",
    "    print(\"\\n\")\n",
    "    print(\"\\n\")"
   ]
  },
  {
   "cell_type": "code",
   "execution_count": 36,
   "metadata": {},
   "outputs": [],
   "source": [
    "topicResults = lda.transform(dtm)"
   ]
  },
  {
   "cell_type": "code",
   "execution_count": 38,
   "metadata": {},
   "outputs": [
    {
     "name": "stdout",
     "output_type": "stream",
     "text": [
      "(69413, 25)\n",
      "[0.   0.01 0.   0.09 0.05 0.   0.   0.02 0.   0.   0.09 0.   0.36 0.\n",
      " 0.07 0.   0.   0.   0.18 0.01 0.   0.   0.04 0.   0.08]\n"
     ]
    }
   ],
   "source": [
    "# An array where each row is the job description and each column is a probability that the topic is represented in this document. \n",
    "print(topicResults.shape)\n",
    "\n",
    "# For document at index 50, round to two decimal places to see the probability of the topic being represented\n",
    "print(topicResults[50].round(2))"
   ]
  },
  {
   "cell_type": "code",
   "execution_count": 39,
   "metadata": {},
   "outputs": [
    {
     "name": "stderr",
     "output_type": "stream",
     "text": [
      "2024-05-17 11:32:19,610 - INFO - generated new fontManager\n"
     ]
    },
    {
     "data": {
      "image/png": "[encoded data removed]",
      "text/plain": [
       "<Figure size 1000x800 with 1 Axes>"
      ]
     },
     "metadata": {},
     "output_type": "display_data"
    }
   ],
   "source": [
    "#Lets see this in a visual representation now\n",
    "import matplotlib.pyplot as plt\n",
    "import numpy as np\n",
    "\n",
    "# For document at index 50, round to two decimal places\n",
    "topic_probs = topicResults[50].round(2)\n",
    "\n",
    "# Number of topics (assuming you have 25 topics)\n",
    "num_topics = len(topic_probs)\n",
    "\n",
    "# Create a horizontal bar chart\n",
    "plt.figure(figsize=(10, 8))\n",
    "plt.barh(np.arange(num_topics), topic_probs, align='center', alpha=0.7)\n",
    "plt.yticks(np.arange(num_topics), [f'Topic {i+1}' for i in range(num_topics)])\n",
    "plt.xlabel('Probability')\n",
    "plt.title('Topic Probabilities for Document #50')\n",
    "plt.gca().invert_yaxis()  # Invert y-axis to have topic 1 at the top\n",
    "plt.show()"
   ]
  },
  {
   "cell_type": "markdown",
   "metadata": {},
   "source": [
    "**Topic 13 Words**\n",
    "\n",
    "The Top 15 words for topic #13]\n",
    "['required', 'information', 'client', 'team', 'process', 'analysis', 'program', 'projects', 'requirements', 'skills', 'support', 'work', 'management', 'business', 'project']"
   ]
  },
  {
   "cell_type": "code",
   "execution_count": 40,
   "metadata": {},
   "outputs": [
    {
     "data": {
      "text/plain": [
       "\"HOVER is a software platform offering measurement, visualization, estimation, and ordering solutions to the construction and insurance markets. HOVER uses patented technology making it possible for anyone with a smartphone camera to create an interactive 3D model, complete with detailed measurements and powerful design features. The data produced is extremely valuable as it generates a single source of truth for the physical world allowing for more veracity throughout the home improvement and insurance processes. We’ve found an incredibly strong product-market fit across construction, insurance, and newly emerging, with Homeowners. What's the secret sauce? Cutting edge technology, an exceptional culture, and a commitment to our values (Think. Do. Serve.).\\n\\nWith our team of investors, including Google Ventures, Menlo Ventures, The Home Depot, and leading Insurance carriers such as Travelers, State Farm, and Nationwide, HOVER is committed to continuing our success and facilitating growth. We believe there is strength in diversity so we hire skilled and passionate people from a wide variety of backgrounds.\\n\\nPlease submit resume in PDF Format\\n\\nWhy HOVER Wants You\\n\\nHOVER is looking for a product leader to spearhead our efforts for the entire Interiors portfolio. In this role, you will be treated as a founder of our Interiors business line and you will be responsible for creating a viable business model across many industries like insurance, consumer, real estate, appraisal, and mitigation. We are looking for someone who can productize hard tech and inventions in the world of CV/Gen AI into solving users' unmet needs and translate those inventions into a delightful magical consumer experience.\\n\\nYou’ll be leading Interiors vertical - an impactful team of brilliant CV/ML/3D engineers, PMs, and designers working on a problem that hasn’t been solved before. This is a great opportunity to play a critical and highly visible role in a fast-growing company and has a unique opportunity to define and grow HOVER’s culture.\\n\\nYou Will Be Held Accountable For\\n\\n\\n * Product Strategy & Vision: Productize our newest technologies (aka 0 to 1), take them to market, and establish us as the leader and standard in the category\\n * Execution: Executing against the product strategy and ensuring the cross-functional team is working on the right things at the right time\\n * Team Development: Developing the interiors product team while maintaining a product culture that is consistent with our core values\\n * Owning P&L of the interiors business line and making it the fastest growing vertical at Hover.\\n   \\n   \\n   \\n\\nStarting With\\n\\n\\n * Seasoned leadership in Product, Engineering, and Designed and a world-class deep tech and mobile engineering team\\n * Active, engaged, and highly retained customer base\\n   \\n   \\n   \\n\\nIf this position is wildly successful, in one year you will have:\\n\\n\\n * Cemented product market fit and created value stickiness\\n * Exceeded revenue goals\\n * Established product led marketing and growth execution\\n * Entered two new audience verticals\\n   \\n   \\n   \\n\\nYour Background & Qualifications Include\\n\\n\\n * 12+ years defining, building, and shipping high-quality software in rapidly growing markets, including productizing computer vision, robotics, or machine learning products\\n * You operate with a founder’s mentality in everything you do\\n * Customer centric focus with an obsessive need to wow and delight our users\\n * Ability to move up and down between product strategy and day-to-day tactics\\n * Ability to simplify the complicated and direct team members to the highest-leveraged activities\\n * Experience managing and growing a team of Product Managers\\n * Exceptional communication, both verbal and written. You are equally comfortable presenting to internal teams or external customers & partners.\\n * A passion for 3D (including AR / VR) and a deep appreciation for how it can revolutionize the way our world works.\\n   \\n   \\n   \\n\\nBenefits\\n\\n\\n * Compensation - Competitive salary and meaningful equity in a fast-growing company\\n * Healthcare - Comprehensive medical, dental, and vision coverage for you and dependents\\n * Paid Time Off - Unlimited and flexible vacation policy\\n * Paid Family Leave- We support work/life balance and offer generous paid parental and new child bonding leave\\n * Mandatory Self-Care Days - A day set aside each month to allow employees to recharge\\n * Remote Wellbeing Resources - We provide recurring fitness classes, meditation/ mindfulness tools, virtual therapy, and family planning assistance\\n * Learning - We encourage continued education and will help cover the cost of management training, conferences, workshops, or certifications\\n   \\n   \\n   \\n\\nHOVER has Hubs in San Francisco, New York City, and Austin. These Hubs are where our teams will be growing the most as we foster in-person collaboration and connection.\\n\\nThe US base salary range for this full-time position is $159,000-$234,000. Our salary ranges are determined by role, level, and location. The range displayed on each job posting reflects the minimum and maximum target for new hire salaries for the position across all US locations. Within the range, individual pay is determined by work location and additional factors, including job-related skills, experience, and relevant education or training. Your recruiter can share more about the specific salary range for your preferred location during the hiring process.\\n\\n\""
      ]
     },
     "execution_count": 40,
     "metadata": {},
     "output_type": "execute_result"
    }
   ],
   "source": [
    "# For the topic with this highest probability, we can look at the document and see what it says and get an intution for the topic itself. \n",
    "jobDescriptionDf['full_posting_description'][50]\n"
   ]
  },
  {
   "cell_type": "code",
   "execution_count": 41,
   "metadata": {},
   "outputs": [
    {
     "name": "stdout",
     "output_type": "stream",
     "text": [
      "12\n"
     ]
    }
   ],
   "source": [
    "# Run Argmax to just get the index position of the highest probability\n",
    "# Note the offset value. We list 12 here, but the chart above shows 13 due to indexes starting at zero.  \n",
    "print(topicResults[50].argmax())"
   ]
  },
  {
   "cell_type": "code",
   "execution_count": 43,
   "metadata": {},
   "outputs": [],
   "source": [
    "# We can create a new column in the original datframe and apply the topic to the job posting\n",
    "jobDescriptionDf.loc[:, \"Topic\"] = topicResults.argmax(axis=1)"
   ]
  },
  {
   "cell_type": "code",
   "execution_count": 46,
   "metadata": {},
   "outputs": [
    {
     "name": "stdout",
     "output_type": "stream",
     "text": [
      "Index(['full_posting_description', 'Topic'], dtype='object')\n",
      "(69413, 2)\n"
     ]
    }
   ],
   "source": [
    "print(jobDescriptionDf.columns)\n",
    "print(jobDescriptionDf.shape)"
   ]
  },
  {
   "cell_type": "code",
   "execution_count": 47,
   "metadata": {},
   "outputs": [
    {
     "data": {
      "image/png": "[encoded data removed]",
      "text/plain": [
       "<Figure size 1200x800 with 1 Axes>"
      ]
     },
     "metadata": {},
     "output_type": "display_data"
    }
   ],
   "source": [
    "# We can explore the distribution of topics across the documents. \n",
    "# Step 1: Count the occurrences of each topic\n",
    "topic_counts = jobDescriptionDf['Topic'].value_counts().sort_index()\n",
    "\n",
    "# Step 2: Create the horizontal bar chart\n",
    "plt.figure(figsize=(12, 8))\n",
    "plt.barh(topic_counts.index, topic_counts.values, color='skyblue', alpha=0.7)\n",
    "plt.xlabel('Number of Documents')\n",
    "plt.ylabel('Topic')\n",
    "plt.title('Distribution of Topics in Job Descriptions')\n",
    "plt.xticks(rotation=45)\n",
    "plt.grid(axis='x', linestyle='--', alpha=0.7)\n",
    "\n",
    "# Show the chart\n",
    "plt.show()"
   ]
  },
  {
   "cell_type": "code",
   "execution_count": 51,
   "metadata": {},
   "outputs": [],
   "source": [
    "# We can grab an example of each topic, using the most recent documents. \n",
    "# We will then build a prompt for Chat GPT and ask it to apply some possible labels to these topics. \n",
    "\n",
    "\n",
    "# Reverse the DataFrame to start from the last row\n",
    "reversed_df = jobDescriptionDf.iloc[::-1]\n",
    "\n",
    "# Extract one example row for each unique topic\n",
    "example_rows = reversed_df.groupby('Topic').first().reset_index()\n",
    "\n",
    "# Write the example rows to a file with utf-8 encoding\n",
    "with open('topics.txt', 'w', encoding='utf-8') as file:\n",
    "    for index, row in example_rows.iterrows():\n",
    "        file.write(f\"Topic: {row['Topic']}\\n\")\n",
    "        file.write(f\"Description: {row['full_posting_description']}\\n\")\n",
    "        file.write(\"\\n ######### \\n\")\n"
   ]
  },
  {
   "cell_type": "code",
   "execution_count": 53,
   "metadata": {},
   "outputs": [],
   "source": [
    "# Maybe we want three example records for each topic\n",
    "\n",
    "# Reverse the DataFrame to start from the last row\n",
    "reversed_df = jobDescriptionDf.iloc[::-1]\n",
    "\n",
    "# Extract three example rows for each unique topic\n",
    "example_rows = reversed_df.groupby('Topic').head(3).reset_index(drop=True)\n",
    "\n",
    "# Write the example rows to a file with utf-8 encoding\n",
    "with open('topicsThreeJobDescriptions.txt', 'w', encoding='utf-8') as file:\n",
    "    current_topic = None\n",
    "    for index, row in example_rows.iterrows():\n",
    "        if row['Topic'] != current_topic:\n",
    "            if current_topic is not None:\n",
    "                file.write(\"\\n\")\n",
    "            current_topic = row['Topic']\n",
    "            file.write(f\"Topic: {current_topic}\\n\")\n",
    "        file.write(f\"Job Description {index % 3 + 1}: {row['full_posting_description']}\\n #### \\n\")\n",
    "\n"
   ]
  },
  {
   "cell_type": "code",
   "execution_count": 57,
   "metadata": {},
   "outputs": [],
   "source": [
    "import pandas as pd\n",
    "\n",
    "# Assuming jobDescriptionDf is already created\n",
    "# jobDescriptionDf = pd.read_csv('your_file.csv')  # Example to load DataFrame from a CSV\n",
    "\n",
    "# Reverse the DataFrame to start from the last row\n",
    "reversed_df = jobDescriptionDf.iloc[::-1]\n",
    "\n",
    "# Extract the last three rows for each unique topic\n",
    "example_rows = reversed_df.groupby('Topic').head(3)\n",
    "\n",
    "# Write the example rows to a file with utf-8 encoding\n",
    "with open('topicsThreeJobDescriptions.txt', 'w', encoding='utf-8') as file:\n",
    "    for topic, group in example_rows.groupby('Topic'):\n",
    "        file.write(f\"Time for a new topic. \\n Topic: {topic}\\n\")\n",
    "        for index, row in group.iterrows():\n",
    "            file.write(f\"Job Description {index + 1}: \\n {row['full_posting_description']}\\n #### \\n\")\n",
    "        file.write(\"\\n\")\n"
   ]
  }
 ],
 "metadata": {
  "kernelspec": {
   "display_name": "Python 3",
   "language": "python",
   "name": "python3"
  },
  "language_info": {
   "codemirror_mode": {
    "name": "ipython",
    "version": 3
   },
   "file_extension": ".py",
   "mimetype": "text/x-python",
   "name": "python",
   "nbconvert_exporter": "python",
   "pygments_lexer": "ipython3",
   "version": "3.11.0"
  }
 },
 "nbformat": 4,
 "nbformat_minor": 2
}
